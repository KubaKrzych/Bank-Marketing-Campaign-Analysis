{
 "cells": [
  {
   "cell_type": "code",
   "execution_count": null,
   "id": "43130277-8a83-4904-afee-4e2a88cb3f86",
   "metadata": {},
   "outputs": [],
   "source": [
    "import os\n",
    "import warnings\n",
    "\n",
    "warnings.filterwarnings(\"ignore\")\n",
    "\n",
    "import matplotlib.pyplot as plt\n",
    "import numpy as np\n",
    "import pandas as pd\n",
    "import seaborn as sns\n",
    "from imblearn.under_sampling import RandomUnderSampler\n",
    "from sklearn.ensemble import RandomForestClassifier\n",
    "from sklearn.linear_model import LogisticRegression\n",
    "from sklearn.metrics import classification_report, confusion_matrix\n",
    "from sklearn.metrics import mean_squared_error as mse\n",
    "from sklearn.metrics import roc_auc_score, roc_curve\n",
    "from sklearn.model_selection import GridSearchCV, cross_val_score, train_test_split\n",
    "from sklearn.naive_bayes import MultinomialNB\n",
    "from sklearn.neighbors import KNeighborsClassifier\n",
    "from sklearn.pipeline import Pipeline\n",
    "from sklearn.svm import LinearSVC\n",
    "from sklearn.tree import DecisionTreeClassifier"
   ]
  },
  {
   "cell_type": "code",
   "execution_count": null,
   "id": "9e1e45a4-220d-4cb2-a691-8e953f726c86",
   "metadata": {},
   "outputs": [],
   "source": [
    "pd.set_option(\"display.max_columns\", None)\n",
    "pd.set_option(\"display.max_colwidth\", None)\n",
    "plt.rcParams[\"figure.figsize\"] = (8, 6)\n",
    "plt.rcParams[\"figure.dpi\"] = 100\n",
    "plt.style.use(\"bmh\")"
   ]
  },
  {
   "cell_type": "code",
   "execution_count": null,
   "id": "96bf0f09-c2fd-49f1-8340-0c5b829ab144",
   "metadata": {},
   "outputs": [],
   "source": [
    "os.chdir(\"../data/\")"
   ]
  },
  {
   "cell_type": "markdown",
   "id": "a57690eb-2cfe-42c0-8d6e-98cf236f212b",
   "metadata": {},
   "source": [
    "# Importowanie danych i ich przygotowanie"
   ]
  },
  {
   "cell_type": "code",
   "execution_count": null,
   "id": "d819c723-900e-4ee9-beb8-22104537a7d8",
   "metadata": {},
   "outputs": [],
   "source": [
    "RANDOM_STATE = 0\n",
    "TEST_SIZE = 0.2"
   ]
  },
  {
   "cell_type": "code",
   "execution_count": null,
   "id": "c5f01792-14d3-4b80-9f6d-b329187eae02",
   "metadata": {},
   "outputs": [],
   "source": [
    "df = pd.read_csv(\"totrain.csv\", index_col=0)\n",
    "df = df.drop(\"dl_polaczenia\", axis=1)"
   ]
  },
  {
   "cell_type": "code",
   "execution_count": null,
   "id": "187dad96-a179-4b19-9797-d61083a65817",
   "metadata": {},
   "outputs": [],
   "source": [
    "X, y = df.drop(\"target\", axis=1), df.target"
   ]
  },
  {
   "cell_type": "markdown",
   "id": "9e49d1b4-c3ab-44ac-8481-68c6fd4f872b",
   "metadata": {},
   "source": [
    "#### train-test-validate split"
   ]
  },
  {
   "cell_type": "code",
   "execution_count": null,
   "id": "61e7e5a5-7a03-47d7-b389-d16a534dd36b",
   "metadata": {
    "tags": []
   },
   "outputs": [],
   "source": [
    "X_train, X_test, y_train, y_test = train_test_split(\n",
    "    X, y, test_size=TEST_SIZE, random_state=RANDOM_STATE\n",
    ")\n",
    "X_test, X_validate, y_test, y_validate = train_test_split(\n",
    "    X_test, y_test, test_size=TEST_SIZE, random_state=RANDOM_STATE\n",
    ")"
   ]
  },
  {
   "cell_type": "markdown",
   "id": "4d7276c4-58eb-4248-b8e1-e41c538b7a81",
   "metadata": {},
   "source": [
    "#### DO POPRAWY"
   ]
  },
  {
   "cell_type": "code",
   "execution_count": null,
   "id": "b998c752-70d2-41e1-b309-cac6e3c23984",
   "metadata": {},
   "outputs": [],
   "source": [
    "serie = y_train.value_counts()\n",
    "ratio = {1: serie[0] / serie[1]}\n",
    "serie"
   ]
  },
  {
   "cell_type": "code",
   "execution_count": null,
   "id": "521c90c8-bf14-421b-991b-2b2b40145866",
   "metadata": {},
   "outputs": [],
   "source": [
    "df.head()"
   ]
  },
  {
   "cell_type": "markdown",
   "id": "a0388c3f-8c9a-4e3b-81d6-43868d1c09b7",
   "metadata": {},
   "source": [
    "## Przygotowanie modeli"
   ]
  },
  {
   "cell_type": "code",
   "execution_count": null,
   "id": "f4f98be8-3162-458d-a797-faffb2c27409",
   "metadata": {},
   "outputs": [],
   "source": [
    "def build_model(model, name):\n",
    "    global X_train, y_train, X_test, y_test, decomp\n",
    "    plt.figure(dpi=50)\n",
    "    model.fit(X_train, y_train)\n",
    "    y_pred = model.predict(X_test)\n",
    "\n",
    "    print(\"-\" * 3 + \" \" + name + \" \" + \"-\" * 3)\n",
    "    print(classification_report(y_test, y_pred))\n",
    "    print(\"-\" * 10)\n",
    "    print(\"Area under curve\\n\", roc_auc_score(y_test, y_pred))\n",
    "\n",
    "    fpr, tpr, *_ = roc_curve(y_test, y_pred)\n",
    "    plt.plot(fpr, tpr)\n",
    "\n",
    "    print(\"-\" * 10)\n",
    "    print(\"Crosstab\")\n",
    "    print(pd.crosstab(y_test, y_pred, rownames=[\"Actual\"], colnames=[\"Predicted\"]))"
   ]
  },
  {
   "cell_type": "code",
   "execution_count": null,
   "id": "a3d328c2-9e9f-4b8c-bcad-b459ca509678",
   "metadata": {},
   "outputs": [],
   "source": [
    "lr = LogisticRegression(max_iter=10000, class_weight=ratio)\n",
    "svm = LinearSVC(C=0.0001, class_weight=ratio)\n",
    "dtc = DecisionTreeClassifier(\n",
    "    max_depth=10,\n",
    "    random_state=RANDOM_STATE,\n",
    "    class_weight=ratio,\n",
    ")\n",
    "rfc = RandomForestClassifier(\n",
    "    n_estimators=10000,\n",
    "    n_jobs=8,\n",
    "    random_state=RANDOM_STATE,\n",
    "    class_weight=ratio,\n",
    ")\n",
    "knn = KNeighborsClassifier(n_neighbors=49)\n",
    "\n",
    "models = [\n",
    "    (lr, \"LogisticRegression\"),\n",
    "    (svm, \"SVM\"),\n",
    "    (dtc, \"DecisionTree\"),\n",
    "    (rfc, \"RandomForest\"),\n",
    "]"
   ]
  },
  {
   "cell_type": "markdown",
   "id": "3154ca2d-515e-42cd-beb2-e38e2c1368fc",
   "metadata": {},
   "source": [
    "### Ewaluacja modeli"
   ]
  },
  {
   "cell_type": "code",
   "execution_count": null,
   "id": "36440e1e-9485-4f04-a65c-5c2ceac50d19",
   "metadata": {},
   "outputs": [],
   "source": [
    "build_model(knn, \"KNN\")"
   ]
  },
  {
   "cell_type": "code",
   "execution_count": null,
   "id": "f07120ca-f436-4d4f-9b81-d8a631a3cd42",
   "metadata": {},
   "outputs": [],
   "source": [
    "build_model(lr, \"LogisticRegression\")"
   ]
  },
  {
   "cell_type": "code",
   "execution_count": null,
   "id": "65f8d985-2dc4-4852-8f57-f4af41f3a9a7",
   "metadata": {},
   "outputs": [],
   "source": [
    "build_model(svm, \"SupportedVectorMachines\")"
   ]
  },
  {
   "cell_type": "code",
   "execution_count": null,
   "id": "a2ed49d7-c73d-45c3-a5b1-e4323e060783",
   "metadata": {},
   "outputs": [],
   "source": [
    "build_model(dtc, \"DecisionTreeClassifier\")"
   ]
  },
  {
   "cell_type": "code",
   "execution_count": null,
   "id": "1f8c1ef1-f33c-4579-a550-01ed7b6e32a6",
   "metadata": {},
   "outputs": [],
   "source": [
    "build_model(rfc, \"RandomForestClassifier\")"
   ]
  },
  {
   "cell_type": "markdown",
   "id": "b8c59092-e774-45b0-a2d7-f8c38444d068",
   "metadata": {},
   "source": [
    "#### Na podstawie powyższych wyników, możemy zaobserwować, że najlepszym wyborem będzie algorytm _Decision tree_."
   ]
  },
  {
   "cell_type": "code",
   "execution_count": null,
   "id": "474c16b3-bad0-42ba-8848-fd68d616fc0c",
   "metadata": {},
   "outputs": [],
   "source": [
    "n_components = list(range(1, X.shape[1] + 1, 1))\n",
    "criterion = [\"gini\", \"entropy\"]\n",
    "max_depth = list(range(2, 51, 2))\n",
    "parameters = dict(\n",
    "    criterion=criterion,\n",
    "    max_depth=max_depth,\n",
    "    class_weight=[ratio],\n",
    "    max_features=[\"sqrt\", \"auto\"],\n",
    ")"
   ]
  },
  {
   "cell_type": "code",
   "execution_count": null,
   "id": "56537193-b665-4ad7-99e1-249cb3934f48",
   "metadata": {},
   "outputs": [],
   "source": [
    "gs = GridSearchCV(DecisionTreeClassifier(), parameters, scoring=\"f1\")"
   ]
  },
  {
   "cell_type": "markdown",
   "id": "b75fbf58-fedc-40eb-8ec7-08081b84ffc6",
   "metadata": {},
   "source": [
    "#### Walidacja na podstawie wcześniejszego \"odłożenia\" podzbioru z suffixem _validate_"
   ]
  },
  {
   "cell_type": "code",
   "execution_count": null,
   "id": "4fedd63c-c544-40c9-9c21-5c5167468aa3",
   "metadata": {},
   "outputs": [],
   "source": [
    "gs.fit(X_validate, y_validate)"
   ]
  },
  {
   "cell_type": "code",
   "execution_count": null,
   "id": "b077825d-b87c-4021-b2b6-69e640b4e94f",
   "metadata": {},
   "outputs": [],
   "source": [
    "gs.best_params_"
   ]
  },
  {
   "cell_type": "code",
   "execution_count": null,
   "id": "cd1652c7-c767-482d-92d9-c530fff8a76e",
   "metadata": {},
   "outputs": [],
   "source": [
    "dct = DecisionTreeClassifier(\n",
    "    max_features=\"sqrt\", max_depth=8, criterion=\"entropy\", class_weight=ratio\n",
    ")\n",
    "build_model(dct, \"DCT\")"
   ]
  },
  {
   "cell_type": "code",
   "execution_count": null,
   "id": "98aa4a06-4f7d-4595-ab3c-14c8d0cf4a34",
   "metadata": {},
   "outputs": [],
   "source": [
    "#### Ważność konkretnych cech dla modelu"
   ]
  },
  {
   "cell_type": "code",
   "execution_count": null,
   "id": "c6f91309-4229-473e-b193-8dafae8ed69a",
   "metadata": {},
   "outputs": [],
   "source": [
    "pd.Series(dct.feature_importances_, index=X_validate.columns).nlargest(10).plot(\n",
    "    kind=\"barh\"\n",
    ")"
   ]
  },
  {
   "cell_type": "markdown",
   "id": "4e6e0828-6599-4d3c-a285-553d6dfbcfce",
   "metadata": {},
   "source": [
    "# Wnioski"
   ]
  },
  {
   "cell_type": "markdown",
   "id": "bbeefbf2-2698-467e-8b95-9328e1c731ac",
   "metadata": {},
   "source": [
    "Podstawowe algorytmy do binarnej klasyfikacji, okazały się być niewystarczające. \n",
    "\n",
    "*DOPISZ*\n"
   ]
  },
  {
   "cell_type": "markdown",
   "id": "6e00604a-bcb3-493c-9af0-01a8bf8f2b35",
   "metadata": {},
   "source": [
    "## Co możnaby zrobić inaczej?"
   ]
  },
  {
   "cell_type": "markdown",
   "id": "525f2434-ecc8-487f-b10d-959c2318b7b2",
   "metadata": {},
   "source": [
    "Przede wszystkim, należałoby jeszcze raz przeprowadzić proces czyszczenia danych i proces inżynierii cech. Jest parę działań, które popełniliśmy jednak nie byliśmy ich pewni.\n",
    "\n",
    "*DOPISZ*\n",
    "\n",
    "- Nie usuwaliśmy żadnego rekordu, nawet dla połączeń trwających 0 sekund, bo założyliśmy, że takie połączenia mogą się zdarzyć.\n",
    "- Nie usuwaliśmy rekordów, gdzie połączenie trwało powyżej 3000 sekund, bo chcieliśmy przygotować model pod obsługę długich rozmów.\n",
    "- Można przyjąć _unknown_ jako klasę i nie przybliżać wartości cech, gdzie dana obserwacja, zawiera cechę o wartości _unknown_.\n",
    "- Należałoby się zastanowić nad cechą _liczba\\_dni\\_od\\_ost\\_kontaktu_, gdzie w naszym procesie, klasyfikowaliśmy wartości do zadanych przedziałów, co być może nie jest odpowiednie, bo dla osób, z którymi wcześniej się nie kontaktowano, zaklasyfikowalismy ich do ostatniego przedziału. Takie rozwiązanie, "
   ]
  },
  {
   "cell_type": "markdown",
   "id": "83362aca-f714-4c3a-83f7-a041b93ee78d",
   "metadata": {},
   "source": [
    "## Key-takeaways, na co należy zwrócić uwagę przy następnych kampaniach"
   ]
  },
  {
   "cell_type": "markdown",
   "id": "9438aff1-6216-49ce-a631-2f3c59cae480",
   "metadata": {},
   "source": [
    "*DOPISZ*\n",
    "\n",
    "Ladnie napisac, trzy najważniejsze cechy na podstawie wykresu _feature\\_importances_ i opisać jakieś propozycje."
   ]
  }
 ],
 "metadata": {
  "kernelspec": {
   "display_name": "Python 3 (ipykernel)",
   "language": "python",
   "name": "python3"
  },
  "language_info": {
   "codemirror_mode": {
    "name": "ipython",
    "version": 3
   },
   "file_extension": ".py",
   "mimetype": "text/x-python",
   "name": "python",
   "nbconvert_exporter": "python",
   "pygments_lexer": "ipython3",
   "version": "3.9.13"
  }
 },
 "nbformat": 4,
 "nbformat_minor": 5
}
