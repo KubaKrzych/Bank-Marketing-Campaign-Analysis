{
 "cells": [
  {
   "cell_type": "code",
   "execution_count": 1,
   "id": "43130277-8a83-4904-afee-4e2a88cb3f86",
   "metadata": {},
   "outputs": [],
   "source": [
    "import os\n",
    "import warnings\n",
    "\n",
    "warnings.filterwarnings(\"ignore\")\n",
    "\n",
    "import matplotlib.pyplot as plt\n",
    "import numpy as np\n",
    "import pandas as pd\n",
    "import seaborn as sns\n",
    "from sklearn.ensemble import RandomForestClassifier\n",
    "from sklearn.linear_model import LogisticRegression\n",
    "from sklearn.metrics import (\n",
    "    classification_report,\n",
    "    confusion_matrix,\n",
    "    roc_auc_score,\n",
    "    roc_curve,\n",
    ")\n",
    "from sklearn.model_selection import GridSearchCV, cross_val_score, train_test_split\n",
    "from sklearn.neighbors import KNeighborsClassifier\n",
    "from sklearn.svm import LinearSVC\n",
    "from sklearn.tree import DecisionTreeClassifier"
   ]
  },
  {
   "cell_type": "code",
   "execution_count": 2,
   "id": "9e1e45a4-220d-4cb2-a691-8e953f726c86",
   "metadata": {},
   "outputs": [],
   "source": [
    "pd.set_option(\"display.max_columns\", None)\n",
    "pd.set_option(\"display.max_colwidth\", None)\n",
    "plt.rcParams[\"figure.figsize\"] = (8, 6)\n",
    "plt.rcParams[\"figure.dpi\"] = 100\n",
    "plt.style.use(\"bmh\")"
   ]
  },
  {
   "cell_type": "code",
   "execution_count": 3,
   "id": "96bf0f09-c2fd-49f1-8340-0c5b829ab144",
   "metadata": {},
   "outputs": [],
   "source": [
    "os.chdir(\"../data/\")"
   ]
  },
  {
   "cell_type": "markdown",
   "id": "a57690eb-2cfe-42c0-8d6e-98cf236f212b",
   "metadata": {},
   "source": [
    "# Importowanie danych i ich przygotowanie"
   ]
  },
  {
   "cell_type": "code",
   "execution_count": 4,
   "id": "d819c723-900e-4ee9-beb8-22104537a7d8",
   "metadata": {},
   "outputs": [],
   "source": [
    "RANDOM_STATE = 0\n",
    "TEST_SIZE = 0.2"
   ]
  },
  {
   "cell_type": "code",
   "execution_count": 5,
   "id": "c5f01792-14d3-4b80-9f6d-b329187eae02",
   "metadata": {},
   "outputs": [],
   "source": [
    "df = pd.read_csv(\"totrain.csv\", index_col=0)\n",
    "df = df.drop(\"dl_polaczenia\", axis=1)"
   ]
  },
  {
   "cell_type": "code",
   "execution_count": 6,
   "id": "187dad96-a179-4b19-9797-d61083a65817",
   "metadata": {},
   "outputs": [],
   "source": [
    "X, y = df.drop(\"target\", axis=1), df.target"
   ]
  },
  {
   "cell_type": "markdown",
   "id": "9e49d1b4-c3ab-44ac-8481-68c6fd4f872b",
   "metadata": {},
   "source": [
    "#### train-test-validate split"
   ]
  },
  {
   "cell_type": "code",
   "execution_count": 7,
   "id": "61e7e5a5-7a03-47d7-b389-d16a534dd36b",
   "metadata": {
    "tags": []
   },
   "outputs": [],
   "source": [
    "X_train, X_test, y_train, y_test = train_test_split(\n",
    "    X, y, test_size=TEST_SIZE, random_state=RANDOM_STATE\n",
    ")\n",
    "X_test, X_validate, y_test, y_validate = train_test_split(\n",
    "    X_test, y_test, test_size=TEST_SIZE, random_state=RANDOM_STATE\n",
    ")"
   ]
  },
  {
   "cell_type": "markdown",
   "id": "4d7276c4-58eb-4248-b8e1-e41c538b7a81",
   "metadata": {},
   "source": [
    "#### Dlaczego tak\n",
    "Dzielimy dane na 3 grupy trenowanie i testowanie służa do poprawy modelu, zaś validate do ostatecznego testu jak model się sprawdza"
   ]
  },
  {
   "cell_type": "code",
   "execution_count": 8,
   "id": "b998c752-70d2-41e1-b309-cac6e3c23984",
   "metadata": {},
   "outputs": [
    {
     "data": {
      "text/plain": [
       "0    21904\n",
       "1     3097\n",
       "Name: target, dtype: int64"
      ]
     },
     "execution_count": 8,
     "metadata": {},
     "output_type": "execute_result"
    }
   ],
   "source": [
    "serie = y_train.value_counts()\n",
    "ratio = {1: serie[0] / serie[1]}\n",
    "serie"
   ]
  },
  {
   "cell_type": "markdown",
   "id": "b760dee1",
   "metadata": {},
   "source": [
    "Ustawiamy ratio ponieważ bardzije nam zależy, żeby model wyszukiwał potencjalne osoby chętne do depozytu"
   ]
  },
  {
   "cell_type": "code",
   "execution_count": 9,
   "id": "521c90c8-bf14-421b-991b-2b2b40145866",
   "metadata": {},
   "outputs": [
    {
     "data": {
      "text/html": [
       "<div>\n",
       "<style scoped>\n",
       "    .dataframe tbody tr th:only-of-type {\n",
       "        vertical-align: middle;\n",
       "    }\n",
       "\n",
       "    .dataframe tbody tr th {\n",
       "        vertical-align: top;\n",
       "    }\n",
       "\n",
       "    .dataframe thead th {\n",
       "        text-align: right;\n",
       "    }\n",
       "</style>\n",
       "<table border=\"1\" class=\"dataframe\">\n",
       "  <thead>\n",
       "    <tr style=\"text-align: right;\">\n",
       "      <th></th>\n",
       "      <th>wiek</th>\n",
       "      <th>wyksztalcenie</th>\n",
       "      <th>ma_kredyt</th>\n",
       "      <th>kredyt_mieszkaniowy</th>\n",
       "      <th>ma_pozyczke</th>\n",
       "      <th>miesiac</th>\n",
       "      <th>liczba_polaczen_aktualnej_kampanii</th>\n",
       "      <th>liczba_dni_od_ost_kontaktu</th>\n",
       "      <th>liczba_polaczen_przed_aktualna_kampania</th>\n",
       "      <th>wsk_zmien_zatrudnienia</th>\n",
       "      <th>wsk_cen_konsum</th>\n",
       "      <th>wsk_zauf_konsum</th>\n",
       "      <th>euribor3m</th>\n",
       "      <th>liczba_pracownikow</th>\n",
       "      <th>target</th>\n",
       "      <th>aktywnie_pracujacy</th>\n",
       "      <th>sposob_kontaktu_telephone</th>\n",
       "      <th>stan_cywilny_divorced</th>\n",
       "      <th>stan_cywilny_married</th>\n",
       "      <th>stan_cywilny_single</th>\n",
       "      <th>stan_cywilny_unknown</th>\n",
       "      <th>wynik_poprzedniej_kampanii_failure</th>\n",
       "      <th>wynik_poprzedniej_kampanii_nonexistent</th>\n",
       "      <th>wynik_poprzedniej_kampanii_success</th>\n",
       "      <th>admin.</th>\n",
       "      <th>blue-collar</th>\n",
       "      <th>entrepreneur</th>\n",
       "      <th>housemaid</th>\n",
       "      <th>management</th>\n",
       "      <th>retired</th>\n",
       "      <th>self-employed</th>\n",
       "      <th>services</th>\n",
       "      <th>student</th>\n",
       "      <th>technician</th>\n",
       "      <th>unemployed</th>\n",
       "    </tr>\n",
       "  </thead>\n",
       "  <tbody>\n",
       "    <tr>\n",
       "      <th>0</th>\n",
       "      <td>1.774340</td>\n",
       "      <td>1</td>\n",
       "      <td>1</td>\n",
       "      <td>1</td>\n",
       "      <td>1</td>\n",
       "      <td>0.25</td>\n",
       "      <td>1</td>\n",
       "      <td>6</td>\n",
       "      <td>0</td>\n",
       "      <td>2.406945</td>\n",
       "      <td>0.805097</td>\n",
       "      <td>0.882672</td>\n",
       "      <td>4.857</td>\n",
       "      <td>8.554682</td>\n",
       "      <td>0</td>\n",
       "      <td>1</td>\n",
       "      <td>1.0</td>\n",
       "      <td>0.0</td>\n",
       "      <td>1.0</td>\n",
       "      <td>0.0</td>\n",
       "      <td>0.0</td>\n",
       "      <td>0.0</td>\n",
       "      <td>1.0</td>\n",
       "      <td>0.0</td>\n",
       "      <td>0</td>\n",
       "      <td>0</td>\n",
       "      <td>0</td>\n",
       "      <td>1</td>\n",
       "      <td>0</td>\n",
       "      <td>0</td>\n",
       "      <td>0</td>\n",
       "      <td>0</td>\n",
       "      <td>0</td>\n",
       "      <td>0</td>\n",
       "      <td>0</td>\n",
       "    </tr>\n",
       "    <tr>\n",
       "      <th>1</th>\n",
       "      <td>-0.178868</td>\n",
       "      <td>4</td>\n",
       "      <td>1</td>\n",
       "      <td>0</td>\n",
       "      <td>1</td>\n",
       "      <td>0.25</td>\n",
       "      <td>1</td>\n",
       "      <td>6</td>\n",
       "      <td>0</td>\n",
       "      <td>2.406945</td>\n",
       "      <td>0.805097</td>\n",
       "      <td>0.882672</td>\n",
       "      <td>4.857</td>\n",
       "      <td>8.554682</td>\n",
       "      <td>0</td>\n",
       "      <td>1</td>\n",
       "      <td>1.0</td>\n",
       "      <td>0.0</td>\n",
       "      <td>1.0</td>\n",
       "      <td>0.0</td>\n",
       "      <td>0.0</td>\n",
       "      <td>0.0</td>\n",
       "      <td>1.0</td>\n",
       "      <td>0.0</td>\n",
       "      <td>0</td>\n",
       "      <td>0</td>\n",
       "      <td>0</td>\n",
       "      <td>0</td>\n",
       "      <td>0</td>\n",
       "      <td>0</td>\n",
       "      <td>0</td>\n",
       "      <td>1</td>\n",
       "      <td>0</td>\n",
       "      <td>0</td>\n",
       "      <td>0</td>\n",
       "    </tr>\n",
       "    <tr>\n",
       "      <th>2</th>\n",
       "      <td>0.129533</td>\n",
       "      <td>2</td>\n",
       "      <td>1</td>\n",
       "      <td>1</td>\n",
       "      <td>1</td>\n",
       "      <td>0.25</td>\n",
       "      <td>1</td>\n",
       "      <td>6</td>\n",
       "      <td>0</td>\n",
       "      <td>2.406945</td>\n",
       "      <td>0.805097</td>\n",
       "      <td>0.882672</td>\n",
       "      <td>4.857</td>\n",
       "      <td>8.554682</td>\n",
       "      <td>0</td>\n",
       "      <td>1</td>\n",
       "      <td>1.0</td>\n",
       "      <td>0.0</td>\n",
       "      <td>1.0</td>\n",
       "      <td>0.0</td>\n",
       "      <td>0.0</td>\n",
       "      <td>0.0</td>\n",
       "      <td>1.0</td>\n",
       "      <td>0.0</td>\n",
       "      <td>1</td>\n",
       "      <td>0</td>\n",
       "      <td>0</td>\n",
       "      <td>0</td>\n",
       "      <td>0</td>\n",
       "      <td>0</td>\n",
       "      <td>0</td>\n",
       "      <td>0</td>\n",
       "      <td>0</td>\n",
       "      <td>0</td>\n",
       "      <td>0</td>\n",
       "    </tr>\n",
       "    <tr>\n",
       "      <th>3</th>\n",
       "      <td>1.774340</td>\n",
       "      <td>4</td>\n",
       "      <td>1</td>\n",
       "      <td>1</td>\n",
       "      <td>0</td>\n",
       "      <td>0.25</td>\n",
       "      <td>1</td>\n",
       "      <td>6</td>\n",
       "      <td>0</td>\n",
       "      <td>2.406945</td>\n",
       "      <td>0.805097</td>\n",
       "      <td>0.882672</td>\n",
       "      <td>4.857</td>\n",
       "      <td>8.554682</td>\n",
       "      <td>0</td>\n",
       "      <td>1</td>\n",
       "      <td>1.0</td>\n",
       "      <td>0.0</td>\n",
       "      <td>1.0</td>\n",
       "      <td>0.0</td>\n",
       "      <td>0.0</td>\n",
       "      <td>0.0</td>\n",
       "      <td>1.0</td>\n",
       "      <td>0.0</td>\n",
       "      <td>0</td>\n",
       "      <td>0</td>\n",
       "      <td>0</td>\n",
       "      <td>0</td>\n",
       "      <td>0</td>\n",
       "      <td>0</td>\n",
       "      <td>0</td>\n",
       "      <td>1</td>\n",
       "      <td>0</td>\n",
       "      <td>0</td>\n",
       "      <td>0</td>\n",
       "    </tr>\n",
       "    <tr>\n",
       "      <th>4</th>\n",
       "      <td>2.082742</td>\n",
       "      <td>5</td>\n",
       "      <td>1</td>\n",
       "      <td>1</td>\n",
       "      <td>1</td>\n",
       "      <td>0.25</td>\n",
       "      <td>1</td>\n",
       "      <td>6</td>\n",
       "      <td>0</td>\n",
       "      <td>2.406945</td>\n",
       "      <td>0.805097</td>\n",
       "      <td>0.882672</td>\n",
       "      <td>4.857</td>\n",
       "      <td>8.554682</td>\n",
       "      <td>0</td>\n",
       "      <td>1</td>\n",
       "      <td>1.0</td>\n",
       "      <td>0.0</td>\n",
       "      <td>1.0</td>\n",
       "      <td>0.0</td>\n",
       "      <td>0.0</td>\n",
       "      <td>0.0</td>\n",
       "      <td>1.0</td>\n",
       "      <td>0.0</td>\n",
       "      <td>1</td>\n",
       "      <td>0</td>\n",
       "      <td>0</td>\n",
       "      <td>0</td>\n",
       "      <td>0</td>\n",
       "      <td>0</td>\n",
       "      <td>0</td>\n",
       "      <td>0</td>\n",
       "      <td>0</td>\n",
       "      <td>0</td>\n",
       "      <td>0</td>\n",
       "    </tr>\n",
       "  </tbody>\n",
       "</table>\n",
       "</div>"
      ],
      "text/plain": [
       "       wiek  wyksztalcenie  ma_kredyt  kredyt_mieszkaniowy  ma_pozyczke  \\\n",
       "0  1.774340              1          1                    1            1   \n",
       "1 -0.178868              4          1                    0            1   \n",
       "2  0.129533              2          1                    1            1   \n",
       "3  1.774340              4          1                    1            0   \n",
       "4  2.082742              5          1                    1            1   \n",
       "\n",
       "   miesiac  liczba_polaczen_aktualnej_kampanii  liczba_dni_od_ost_kontaktu  \\\n",
       "0     0.25                                   1                           6   \n",
       "1     0.25                                   1                           6   \n",
       "2     0.25                                   1                           6   \n",
       "3     0.25                                   1                           6   \n",
       "4     0.25                                   1                           6   \n",
       "\n",
       "   liczba_polaczen_przed_aktualna_kampania  wsk_zmien_zatrudnienia  \\\n",
       "0                                        0                2.406945   \n",
       "1                                        0                2.406945   \n",
       "2                                        0                2.406945   \n",
       "3                                        0                2.406945   \n",
       "4                                        0                2.406945   \n",
       "\n",
       "   wsk_cen_konsum  wsk_zauf_konsum  euribor3m  liczba_pracownikow  target  \\\n",
       "0        0.805097         0.882672      4.857            8.554682       0   \n",
       "1        0.805097         0.882672      4.857            8.554682       0   \n",
       "2        0.805097         0.882672      4.857            8.554682       0   \n",
       "3        0.805097         0.882672      4.857            8.554682       0   \n",
       "4        0.805097         0.882672      4.857            8.554682       0   \n",
       "\n",
       "   aktywnie_pracujacy  sposob_kontaktu_telephone  stan_cywilny_divorced  \\\n",
       "0                   1                        1.0                    0.0   \n",
       "1                   1                        1.0                    0.0   \n",
       "2                   1                        1.0                    0.0   \n",
       "3                   1                        1.0                    0.0   \n",
       "4                   1                        1.0                    0.0   \n",
       "\n",
       "   stan_cywilny_married  stan_cywilny_single  stan_cywilny_unknown  \\\n",
       "0                   1.0                  0.0                   0.0   \n",
       "1                   1.0                  0.0                   0.0   \n",
       "2                   1.0                  0.0                   0.0   \n",
       "3                   1.0                  0.0                   0.0   \n",
       "4                   1.0                  0.0                   0.0   \n",
       "\n",
       "   wynik_poprzedniej_kampanii_failure  wynik_poprzedniej_kampanii_nonexistent  \\\n",
       "0                                 0.0                                     1.0   \n",
       "1                                 0.0                                     1.0   \n",
       "2                                 0.0                                     1.0   \n",
       "3                                 0.0                                     1.0   \n",
       "4                                 0.0                                     1.0   \n",
       "\n",
       "   wynik_poprzedniej_kampanii_success  admin.  blue-collar  entrepreneur  \\\n",
       "0                                 0.0       0            0             0   \n",
       "1                                 0.0       0            0             0   \n",
       "2                                 0.0       1            0             0   \n",
       "3                                 0.0       0            0             0   \n",
       "4                                 0.0       1            0             0   \n",
       "\n",
       "   housemaid  management  retired  self-employed  services  student  \\\n",
       "0          1           0        0              0         0        0   \n",
       "1          0           0        0              0         1        0   \n",
       "2          0           0        0              0         0        0   \n",
       "3          0           0        0              0         1        0   \n",
       "4          0           0        0              0         0        0   \n",
       "\n",
       "   technician  unemployed  \n",
       "0           0           0  \n",
       "1           0           0  \n",
       "2           0           0  \n",
       "3           0           0  \n",
       "4           0           0  "
      ]
     },
     "execution_count": 9,
     "metadata": {},
     "output_type": "execute_result"
    }
   ],
   "source": [
    "df.head()"
   ]
  },
  {
   "cell_type": "markdown",
   "id": "a0388c3f-8c9a-4e3b-81d6-43868d1c09b7",
   "metadata": {},
   "source": [
    "## Przygotowanie modeli"
   ]
  },
  {
   "cell_type": "code",
   "execution_count": 10,
   "id": "f4f98be8-3162-458d-a797-faffb2c27409",
   "metadata": {},
   "outputs": [],
   "source": [
    "def build_model(model, name):\n",
    "    global X_train, y_train, X_test, y_test, decomp\n",
    "    plt.figure(dpi=50)\n",
    "    model.fit(X_train, y_train)\n",
    "    y_pred = model.predict(X_test)\n",
    "\n",
    "    print(\"-\" * 3 + \" \" + name + \" \" + \"-\" * 3)\n",
    "    print(classification_report(y_test, y_pred))\n",
    "    print(\"-\" * 10)\n",
    "    print(\"Area under curve\\n\", roc_auc_score(y_test, y_pred))\n",
    "\n",
    "    fpr, tpr, *_ = roc_curve(y_test, y_pred)\n",
    "    plt.plot(fpr, tpr)\n",
    "\n",
    "    print(\"-\" * 10)\n",
    "    print(\"Crosstab\")\n",
    "    print(pd.crosstab(y_test, y_pred, rownames=[\"Actual\"], colnames=[\"Predicted\"]))"
   ]
  },
  {
   "cell_type": "code",
   "execution_count": 11,
   "id": "a3d328c2-9e9f-4b8c-bcad-b459ca509678",
   "metadata": {},
   "outputs": [],
   "source": [
    "lr = LogisticRegression(max_iter=10000, class_weight=ratio)\n",
    "svm = LinearSVC(C=0.0001, class_weight=ratio)\n",
    "dtc = DecisionTreeClassifier(\n",
    "    max_depth=10,\n",
    "    random_state=RANDOM_STATE,\n",
    "    class_weight=ratio,\n",
    ")\n",
    "rfc = RandomForestClassifier(\n",
    "    n_estimators=10000,\n",
    "    n_jobs=-1,\n",
    "    random_state=RANDOM_STATE,\n",
    "    class_weight=ratio,\n",
    ")\n",
    "knn = KNeighborsClassifier(n_neighbors=49)"
   ]
  },
  {
   "cell_type": "markdown",
   "id": "3154ca2d-515e-42cd-beb2-e38e2c1368fc",
   "metadata": {},
   "source": [
    "### Ewaluacja modeli"
   ]
  },
  {
   "cell_type": "markdown",
   "id": "e7308526",
   "metadata": {},
   "source": [
    "#### Model najbliższych sąsiadów"
   ]
  },
  {
   "cell_type": "code",
   "execution_count": 12,
   "id": "36440e1e-9485-4f04-a65c-5c2ceac50d19",
   "metadata": {},
   "outputs": [
    {
     "name": "stdout",
     "output_type": "stream",
     "text": [
      "--- KNN ---\n",
      "              precision    recall  f1-score   support\n",
      "\n",
      "           0       0.90      0.99      0.94      4353\n",
      "           1       0.70      0.23      0.35       647\n",
      "\n",
      "    accuracy                           0.89      5000\n",
      "   macro avg       0.80      0.61      0.64      5000\n",
      "weighted avg       0.87      0.89      0.86      5000\n",
      "\n",
      "----------\n",
      "Area under curve\n",
      " 0.6085683770470791\n",
      "----------\n",
      "Crosstab\n",
      "Predicted     0    1\n",
      "Actual              \n",
      "0          4289   64\n",
      "1           497  150\n"
     ]
    },
    {
     "data": {
      "image/png": "[encoded data removed]",
      "text/plain": [
       "<Figure size 400x300 with 1 Axes>"
      ]
     },
     "metadata": {},
     "output_type": "display_data"
    }
   ],
   "source": [
    "build_model(knn, \"KNN\")"
   ]
  },
  {
   "cell_type": "markdown",
   "id": "d269e2b5",
   "metadata": {},
   "source": [
    "#### Model benchmark do porównywania inynch"
   ]
  },
  {
   "cell_type": "code",
   "execution_count": 13,
   "id": "f07120ca-f436-4d4f-9b81-d8a631a3cd42",
   "metadata": {},
   "outputs": [
    {
     "name": "stdout",
     "output_type": "stream",
     "text": [
      "--- LogisticRegression ---\n",
      "              precision    recall  f1-score   support\n",
      "\n",
      "           0       0.94      0.79      0.86      4353\n",
      "           1       0.32      0.68      0.44       647\n",
      "\n",
      "    accuracy                           0.77      5000\n",
      "   macro avg       0.63      0.73      0.65      5000\n",
      "weighted avg       0.86      0.77      0.80      5000\n",
      "\n",
      "----------\n",
      "Area under curve\n",
      " 0.7339808286562484\n",
      "----------\n",
      "Crosstab\n",
      "Predicted     0    1\n",
      "Actual              \n",
      "0          3423  930\n",
      "1           206  441\n"
     ]
    },
    {
     "data": {
      "image/png": "[encoded data removed]",
      "text/plain": [
       "<Figure size 400x300 with 1 Axes>"
      ]
     },
     "metadata": {},
     "output_type": "display_data"
    }
   ],
   "source": [
    "build_model(lr, \"LogisticRegression\")"
   ]
  },
  {
   "cell_type": "markdown",
   "id": "788d36c1",
   "metadata": {},
   "source": [
    "#### Model bazujący na wektorach"
   ]
  },
  {
   "cell_type": "code",
   "execution_count": 14,
   "id": "65f8d985-2dc4-4852-8f57-f4af41f3a9a7",
   "metadata": {},
   "outputs": [
    {
     "name": "stdout",
     "output_type": "stream",
     "text": [
      "--- SupportedVectorMachines ---\n",
      "              precision    recall  f1-score   support\n",
      "\n",
      "           0       0.95      0.72      0.82      4353\n",
      "           1       0.28      0.73      0.41       647\n",
      "\n",
      "    accuracy                           0.72      5000\n",
      "   macro avg       0.62      0.73      0.61      5000\n",
      "weighted avg       0.86      0.72      0.77      5000\n",
      "\n",
      "----------\n",
      "Area under curve\n",
      " 0.7286685335949447\n",
      "----------\n",
      "Crosstab\n",
      "Predicted     0     1\n",
      "Actual               \n",
      "0          3148  1205\n",
      "1           172   475\n"
     ]
    },
    {
     "data": {
      "image/png": "[encoded data removed]",
      "text/plain": [
       "<Figure size 400x300 with 1 Axes>"
      ]
     },
     "metadata": {},
     "output_type": "display_data"
    }
   ],
   "source": [
    "build_model(svm, \"SupportedVectorMachines\")"
   ]
  },
  {
   "cell_type": "markdown",
   "id": "b967c848",
   "metadata": {},
   "source": [
    "#### Drzewo decyzyjne"
   ]
  },
  {
   "cell_type": "code",
   "execution_count": 15,
   "id": "a2ed49d7-c73d-45c3-a5b1-e4323e060783",
   "metadata": {},
   "outputs": [
    {
     "name": "stdout",
     "output_type": "stream",
     "text": [
      "--- DecisionTreeClassifier ---\n",
      "              precision    recall  f1-score   support\n",
      "\n",
      "           0       0.93      0.87      0.90      4353\n",
      "           1       0.39      0.58      0.47       647\n",
      "\n",
      "    accuracy                           0.83      5000\n",
      "   macro avg       0.66      0.72      0.68      5000\n",
      "weighted avg       0.86      0.83      0.84      5000\n",
      "\n",
      "----------\n",
      "Area under curve\n",
      " 0.7246927006939022\n",
      "----------\n",
      "Crosstab\n",
      "Predicted     0    1\n",
      "Actual              \n",
      "0          3766  587\n",
      "1           269  378\n"
     ]
    },
    {
     "data": {
      "image/png": "[encoded data removed]",
      "text/plain": [
       "<Figure size 400x300 with 1 Axes>"
      ]
     },
     "metadata": {},
     "output_type": "display_data"
    }
   ],
   "source": [
    "build_model(dtc, \"DecisionTreeClassifier\")"
   ]
  },
  {
   "cell_type": "markdown",
   "id": "0cf7ce4f",
   "metadata": {},
   "source": [
    "#### Model wielu drzew decyzyjnych na podstawie losowych zestawów danych"
   ]
  },
  {
   "cell_type": "code",
   "execution_count": 16,
   "id": "1f8c1ef1-f33c-4579-a550-01ed7b6e32a6",
   "metadata": {},
   "outputs": [
    {
     "name": "stdout",
     "output_type": "stream",
     "text": [
      "--- RandomForestClassifier ---\n",
      "              precision    recall  f1-score   support\n",
      "\n",
      "           0       0.90      0.96      0.93      4353\n",
      "           1       0.53      0.27      0.36       647\n",
      "\n",
      "    accuracy                           0.87      5000\n",
      "   macro avg       0.71      0.62      0.64      5000\n",
      "weighted avg       0.85      0.87      0.86      5000\n",
      "\n",
      "----------\n",
      "Area under curve\n",
      " 0.6177490980478209\n",
      "----------\n",
      "Crosstab\n",
      "Predicted     0    1\n",
      "Actual              \n",
      "0          4194  159\n",
      "1           471  176\n"
     ]
    },
    {
     "data": {
      "image/png": "[encoded data removed]",
      "text/plain": [
       "<Figure size 400x300 with 1 Axes>"
      ]
     },
     "metadata": {},
     "output_type": "display_data"
    }
   ],
   "source": [
    "build_model(rfc, \"RandomForestClassifier\")"
   ]
  },
  {
   "cell_type": "markdown",
   "id": "b8c59092-e774-45b0-a2d7-f8c38444d068",
   "metadata": {},
   "source": [
    "#### Na podstawie powyższych wyników, możemy zaobserwować, że najlepszym wyborem będzie algorytm _Decision tree_.\n",
    "Teraz Szukamy jak najbardziej optymalnych hiperparametrów do drzewa decyzyjnego"
   ]
  },
  {
   "cell_type": "code",
   "execution_count": 17,
   "id": "474c16b3-bad0-42ba-8848-fd68d616fc0c",
   "metadata": {},
   "outputs": [],
   "source": [
    "n_components = list(range(1, X.shape[1] + 1, 1))\n",
    "criterion = [\"gini\", \"entropy\"]\n",
    "max_depth = list(range(2, 51, 2))\n",
    "parameters = dict(\n",
    "    criterion=criterion,\n",
    "    max_depth=max_depth,\n",
    "    class_weight=[ratio],\n",
    "    max_features=[\"sqrt\", \"auto\"],\n",
    ")"
   ]
  },
  {
   "cell_type": "code",
   "execution_count": 18,
   "id": "56537193-b665-4ad7-99e1-249cb3934f48",
   "metadata": {},
   "outputs": [],
   "source": [
    "gs = GridSearchCV(DecisionTreeClassifier(), parameters, scoring=\"f1\")"
   ]
  },
  {
   "cell_type": "markdown",
   "id": "b75fbf58-fedc-40eb-8ec7-08081b84ffc6",
   "metadata": {},
   "source": [
    "#### Walidacja na podstawie wcześniejszego \"odłożenia\" podzbioru z suffixem _validate_"
   ]
  },
  {
   "cell_type": "code",
   "execution_count": 19,
   "id": "4fedd63c-c544-40c9-9c21-5c5167468aa3",
   "metadata": {},
   "outputs": [
    {
     "data": {
      "text/plain": [
       "GridSearchCV(estimator=DecisionTreeClassifier(),\n",
       "             param_grid={'class_weight': [{1: 7.072650952534711}],\n",
       "                         'criterion': ['gini', 'entropy'],\n",
       "                         'max_depth': [2, 4, 6, 8, 10, 12, 14, 16, 18, 20, 22,\n",
       "                                       24, 26, 28, 30, 32, 34, 36, 38, 40, 42,\n",
       "                                       44, 46, 48, 50],\n",
       "                         'max_features': ['sqrt', 'auto']},\n",
       "             scoring='f1')"
      ]
     },
     "execution_count": 19,
     "metadata": {},
     "output_type": "execute_result"
    }
   ],
   "source": [
    "gs.fit(X_validate, y_validate)"
   ]
  },
  {
   "cell_type": "code",
   "execution_count": 20,
   "id": "b077825d-b87c-4021-b2b6-69e640b4e94f",
   "metadata": {},
   "outputs": [
    {
     "data": {
      "text/plain": [
       "{'class_weight': {1: 7.072650952534711},\n",
       " 'criterion': 'gini',\n",
       " 'max_depth': 4,\n",
       " 'max_features': 'sqrt'}"
      ]
     },
     "execution_count": 20,
     "metadata": {},
     "output_type": "execute_result"
    }
   ],
   "source": [
    "gs.best_params_"
   ]
  },
  {
   "cell_type": "code",
   "execution_count": 226,
   "id": "cd1652c7-c767-482d-92d9-c530fff8a76e",
   "metadata": {},
   "outputs": [
    {
     "name": "stdout",
     "output_type": "stream",
     "text": [
      "--- DCT ---\n",
      "              precision    recall  f1-score   support\n",
      "\n",
      "           0       0.94      0.84      0.89      4353\n",
      "           1       0.38      0.64      0.48       647\n",
      "\n",
      "    accuracy                           0.82      5000\n",
      "   macro avg       0.66      0.74      0.68      5000\n",
      "weighted avg       0.87      0.82      0.84      5000\n",
      "\n",
      "----------\n",
      "Area under curve\n",
      " 0.743575199608293\n",
      "----------\n",
      "Crosstab\n",
      "Predicted     0    1\n",
      "Actual              \n",
      "0          3668  685\n",
      "1           230  417\n"
     ]
    },
    {
     "data": {
      "image/png": "[encoded data removed]",
      "text/plain": [
       "<Figure size 400x300 with 1 Axes>"
      ]
     },
     "metadata": {},
     "output_type": "display_data"
    }
   ],
   "source": [
    "dct = DecisionTreeClassifier(**gs.best_params_)\n",
    "build_model(dct, \"DCT\")"
   ]
  },
  {
   "cell_type": "markdown",
   "id": "7d490727",
   "metadata": {},
   "source": [
    "#### Ważność konkretnych cech dla modelu"
   ]
  },
  {
   "cell_type": "code",
   "execution_count": 23,
   "id": "c6f91309-4229-473e-b193-8dafae8ed69a",
   "metadata": {},
   "outputs": [
    {
     "data": {
      "text/plain": [
       "<AxesSubplot:>"
      ]
     },
     "execution_count": 23,
     "metadata": {},
     "output_type": "execute_result"
    },
    {
     "data": {
      "image/png": "[encoded data removed]",
      "text/plain": [
       "<Figure size 800x600 with 1 Axes>"
      ]
     },
     "metadata": {},
     "output_type": "display_data"
    }
   ],
   "source": [
    "pd.Series(dct.feature_importances_, index=X_validate.columns).nlargest(10).plot(\n",
    "    kind=\"barh\"\n",
    ")"
   ]
  },
  {
   "cell_type": "markdown",
   "id": "4e6e0828-6599-4d3c-a285-553d6dfbcfce",
   "metadata": {},
   "source": [
    "# Wnioski"
   ]
  },
  {
   "cell_type": "markdown",
   "id": "bbeefbf2-2698-467e-8b95-9328e1c731ac",
   "metadata": {},
   "source": [
    "Podstawowe algorytmy do binarnej klasyfikacji, okazały się być niewystarczające. \n",
    "- Kosztem większej liczby osób, które najpewniej nie będą chętne złożyć depozytu znaleźniśmy więcej osób, które zaakceptują ofertę depozytu a to na tym nam głównie zależy\n",
    "- W celu stworzenia najlepszego modelu potrzebne by były informacje jak bardzo chcemy podciągać osoby do grupy, która potencjalnie zaakceptuje depozyt. Ponieważ podciąganie osób do grupy 1 zaawocuje tym, że co prawda zmniejszymy liczbę osób, które zaakceptowałyby ofertę depozytu, ale model zaklasyfikowałby ich jako niechętnych, jednakże spowodowałoby to, że przeprowadzimy więcej bezowocnych rozmów ponieważ podciągniemy też osoby niechętne do depozytu jako chętne\n"
   ]
  },
  {
   "cell_type": "markdown",
   "id": "6e00604a-bcb3-493c-9af0-01a8bf8f2b35",
   "metadata": {},
   "source": [
    "## Co możnaby zrobić inaczej?"
   ]
  },
  {
   "cell_type": "markdown",
   "id": "525f2434-ecc8-487f-b10d-959c2318b7b2",
   "metadata": {},
   "source": [
    "Przede wszystkim, należałoby jeszcze raz przeprowadzić proces czyszczenia danych i proces inżynierii cech. Jest parę działań, które popełniliśmy jednak nie byliśmy ich pewni.\n",
    "\n",
    "- Nie usuwaliśmy żadnego rekordu, nawet dla połączeń trwających 0 sekund, bo założyliśmy, że takie połączenia mogą się zdarzyć.\n",
    "- Nie usuwaliśmy rekordów, gdzie połączenie trwało powyżej 3000 sekund, bo chcieliśmy przygotować model pod obsługę długich rozmów.\n",
    "- Można przyjąć _unknown_ jako klasę i nie przybliżać wartości cech, gdzie dana obserwacja, zawiera cechę o wartości _unknown_.\n",
    "- Należałoby się zastanowić nad cechą _liczba\\_dni\\_od\\_ost\\_kontaktu_, gdzie w naszym procesie, klasyfikowaliśmy wartości do zadanych przedziałów, co być może nie jest odpowiednie, bo dla osób, z którymi wcześniej się nie kontaktowano, zaklasyfikowalismy ich do ostatniego przedziału. Takie rozwiązanie, \n",
    "- Jeżeli chcielibyśmy uzyskać lepsze wyniki moglibyśmy zostawić kolumnę długości rozmowy z klientem, jednakże wtedy model nie miałby zastosowania w rzeczywistości\n",
    "- Mogliśmy zmniejszyć ratio podciągania osób granicznych do grupy osób chętnych na depozyt"
   ]
  },
  {
   "cell_type": "markdown",
   "id": "83362aca-f714-4c3a-83f7-a041b93ee78d",
   "metadata": {},
   "source": [
    "## Key-takeaways, na co należy zwrócić uwagę przy następnych kampaniach"
   ]
  },
  {
   "cell_type": "markdown",
   "id": "9438aff1-6216-49ce-a631-2f3c59cae480",
   "metadata": {},
   "source": [
    " - Największe znaczenie w podjęciu decyzji o depozycie ma wskaźnik zmienności zatrudnienia, liczba pracowników i euriborn3m, co oczywiście ma sens, bo przy wysokich stopach procentowych, ludzie nie będą skłonni do odkładania pieniędzy, bo pieniądze tracą na wartości\n",
    " - Wartości takie jak wiek czy wykształcenie mają znikomy wpływ na model więc przyszłe kampanie można kierować do szerokiej grupy klientów\n",
    " - Warto przy kolejnych kampaniach patrzeć też na wynik poprzedniej kampanii, ponieważ bez względu czy ona się powiodła czy nie, to jej wyniki wypływają na model"
   ]
  }
 ],
 "metadata": {
  "kernelspec": {
   "display_name": "Python 3 (ipykernel)",
   "language": "python",
   "name": "python3"
  },
  "language_info": {
   "codemirror_mode": {
    "name": "ipython",
    "version": 3
   },
   "file_extension": ".py",
   "mimetype": "text/x-python",
   "name": "python",
   "nbconvert_exporter": "python",
   "pygments_lexer": "ipython3",
   "version": "3.9.13"
  }
 },
 "nbformat": 4,
 "nbformat_minor": 5
}
