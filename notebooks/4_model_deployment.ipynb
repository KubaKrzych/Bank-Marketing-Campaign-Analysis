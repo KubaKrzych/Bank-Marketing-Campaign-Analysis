{
 "cells": [
  {
   "cell_type": "code",
   "execution_count": 1,
   "id": "43130277-8a83-4904-afee-4e2a88cb3f86",
   "metadata": {},
   "outputs": [],
   "source": [
    "import os\n",
    "import warnings\n",
    "\n",
    "warnings.filterwarnings(\"ignore\")\n",
    "\n",
    "import matplotlib.pyplot as plt\n",
    "import numpy as np\n",
    "import pandas as pd\n",
    "import seaborn as sns\n",
    "from sklearn.ensemble import RandomForestClassifier\n",
    "from sklearn.linear_model import LogisticRegression\n",
    "from sklearn.metrics import classification_report, confusion_matrix\n",
    "from sklearn.metrics import mean_squared_error as mse\n",
    "from sklearn.metrics import roc_auc_score, roc_curve\n",
    "from sklearn.model_selection import GridSearchCV, cross_val_score, train_test_split\n",
    "from sklearn.naive_bayes import MultinomialNB\n",
    "from sklearn.neighbors import KNeighborsClassifier\n",
    "from sklearn.pipeline import Pipeline\n",
    "from sklearn.svm import LinearSVC\n",
    "from sklearn.tree import DecisionTreeClassifier"
   ]
  },
  {
   "cell_type": "code",
   "execution_count": 2,
   "id": "9e1e45a4-220d-4cb2-a691-8e953f726c86",
   "metadata": {},
   "outputs": [],
   "source": [
    "pd.set_option(\"display.max_columns\", None)\n",
    "pd.set_option(\"display.max_colwidth\", None)\n",
    "plt.rcParams[\"figure.figsize\"] = (8, 6)\n",
    "plt.rcParams[\"figure.dpi\"] = 100\n",
    "plt.style.use(\"bmh\")"
   ]
  },
  {
   "cell_type": "code",
   "execution_count": 3,
   "id": "96bf0f09-c2fd-49f1-8340-0c5b829ab144",
   "metadata": {},
   "outputs": [],
   "source": [
    "os.chdir(\"../data/\")"
   ]
  },
  {
   "cell_type": "markdown",
   "id": "a57690eb-2cfe-42c0-8d6e-98cf236f212b",
   "metadata": {},
   "source": [
    "# Importowanie danych i ich przygotowanie"
   ]
  },
  {
   "cell_type": "code",
   "execution_count": 4,
   "id": "d819c723-900e-4ee9-beb8-22104537a7d8",
   "metadata": {},
   "outputs": [],
   "source": [
    "RANDOM_STATE = 0\n",
    "TEST_SIZE = 0.2"
   ]
  },
  {
   "cell_type": "code",
   "execution_count": 5,
   "id": "c5f01792-14d3-4b80-9f6d-b329187eae02",
   "metadata": {},
   "outputs": [],
   "source": [
    "df = pd.read_csv(\"totrain.csv\", index_col=0)\n",
    "df = df.drop(\"dl_polaczenia\", axis=1)"
   ]
  },
  {
   "cell_type": "code",
   "execution_count": 6,
   "id": "187dad96-a179-4b19-9797-d61083a65817",
   "metadata": {},
   "outputs": [],
   "source": [
    "X, y = df.drop(\"target\", axis=1), df.target"
   ]
  },
  {
   "cell_type": "markdown",
   "id": "9e49d1b4-c3ab-44ac-8481-68c6fd4f872b",
   "metadata": {},
   "source": [
    "#### train-test-validate split"
   ]
  },
  {
   "cell_type": "code",
   "execution_count": 7,
   "id": "61e7e5a5-7a03-47d7-b389-d16a534dd36b",
   "metadata": {
    "tags": []
   },
   "outputs": [],
   "source": [
    "X_train, X_test, y_train, y_test = train_test_split(\n",
    "    X, y, test_size=TEST_SIZE, random_state=RANDOM_STATE\n",
    ")\n",
    "X_test, X_validate, y_test, y_validate = train_test_split(\n",
    "    X_test, y_test, test_size=TEST_SIZE, random_state=RANDOM_STATE\n",
    ")"
   ]
  },
  {
   "cell_type": "markdown",
   "id": "4d7276c4-58eb-4248-b8e1-e41c538b7a81",
   "metadata": {},
   "source": [
    "#### oversampling, bo zbior danych zawiera wiecej rekordow z targetem 0"
   ]
  },
  {
   "cell_type": "code",
   "execution_count": 8,
   "id": "b998c752-70d2-41e1-b309-cac6e3c23984",
   "metadata": {},
   "outputs": [
    {
     "data": {
      "text/plain": [
       "0    21904\n",
       "1     3097\n",
       "Name: target, dtype: int64"
      ]
     },
     "execution_count": 8,
     "metadata": {},
     "output_type": "execute_result"
    }
   ],
   "source": [
    "serie = y_train.value_counts()\n",
    "ratio = {1: serie[0] / serie[1]}\n",
    "serie"
   ]
  },
  {
   "cell_type": "code",
   "execution_count": 9,
   "id": "521c90c8-bf14-421b-991b-2b2b40145866",
   "metadata": {},
   "outputs": [
    {
     "data": {
      "text/html": [
       "<div>\n",
       "<style scoped>\n",
       "    .dataframe tbody tr th:only-of-type {\n",
       "        vertical-align: middle;\n",
       "    }\n",
       "\n",
       "    .dataframe tbody tr th {\n",
       "        vertical-align: top;\n",
       "    }\n",
       "\n",
       "    .dataframe thead th {\n",
       "        text-align: right;\n",
       "    }\n",
       "</style>\n",
       "<table border=\"1\" class=\"dataframe\">\n",
       "  <thead>\n",
       "    <tr style=\"text-align: right;\">\n",
       "      <th></th>\n",
       "      <th>wiek</th>\n",
       "      <th>wyksztalcenie</th>\n",
       "      <th>ma_kredyt</th>\n",
       "      <th>kredyt_mieszkaniowy</th>\n",
       "      <th>ma_pozyczke</th>\n",
       "      <th>miesiac</th>\n",
       "      <th>liczba_polaczen_aktualnej_kampanii</th>\n",
       "      <th>liczba_dni_od_ost_kontaktu</th>\n",
       "      <th>liczba_polaczen_przed_aktualna_kampania</th>\n",
       "      <th>wsk_zmien_zatrudnienia</th>\n",
       "      <th>wsk_cen_konsum</th>\n",
       "      <th>wsk_zauf_konsum</th>\n",
       "      <th>euribor3m</th>\n",
       "      <th>liczba_pracownikow</th>\n",
       "      <th>target</th>\n",
       "      <th>aktywnie_pracujacy</th>\n",
       "      <th>sposob_kontaktu_telephone</th>\n",
       "      <th>stan_cywilny_divorced</th>\n",
       "      <th>stan_cywilny_married</th>\n",
       "      <th>stan_cywilny_single</th>\n",
       "      <th>stan_cywilny_unknown</th>\n",
       "      <th>wynik_poprzedniej_kampanii_failure</th>\n",
       "      <th>wynik_poprzedniej_kampanii_nonexistent</th>\n",
       "      <th>wynik_poprzedniej_kampanii_success</th>\n",
       "      <th>admin.</th>\n",
       "      <th>blue-collar</th>\n",
       "      <th>entrepreneur</th>\n",
       "      <th>housemaid</th>\n",
       "      <th>management</th>\n",
       "      <th>retired</th>\n",
       "      <th>self-employed</th>\n",
       "      <th>services</th>\n",
       "      <th>student</th>\n",
       "      <th>technician</th>\n",
       "      <th>unemployed</th>\n",
       "    </tr>\n",
       "  </thead>\n",
       "  <tbody>\n",
       "    <tr>\n",
       "      <th>0</th>\n",
       "      <td>1.774340</td>\n",
       "      <td>1</td>\n",
       "      <td>1</td>\n",
       "      <td>1</td>\n",
       "      <td>1</td>\n",
       "      <td>0.25</td>\n",
       "      <td>1</td>\n",
       "      <td>6</td>\n",
       "      <td>0</td>\n",
       "      <td>2.406945</td>\n",
       "      <td>0.805097</td>\n",
       "      <td>0.882672</td>\n",
       "      <td>4.857</td>\n",
       "      <td>8.554682</td>\n",
       "      <td>0</td>\n",
       "      <td>1</td>\n",
       "      <td>1.0</td>\n",
       "      <td>0.0</td>\n",
       "      <td>1.0</td>\n",
       "      <td>0.0</td>\n",
       "      <td>0.0</td>\n",
       "      <td>0.0</td>\n",
       "      <td>1.0</td>\n",
       "      <td>0.0</td>\n",
       "      <td>0</td>\n",
       "      <td>0</td>\n",
       "      <td>0</td>\n",
       "      <td>1</td>\n",
       "      <td>0</td>\n",
       "      <td>0</td>\n",
       "      <td>0</td>\n",
       "      <td>0</td>\n",
       "      <td>0</td>\n",
       "      <td>0</td>\n",
       "      <td>0</td>\n",
       "    </tr>\n",
       "    <tr>\n",
       "      <th>1</th>\n",
       "      <td>-0.178868</td>\n",
       "      <td>4</td>\n",
       "      <td>1</td>\n",
       "      <td>0</td>\n",
       "      <td>1</td>\n",
       "      <td>0.25</td>\n",
       "      <td>1</td>\n",
       "      <td>6</td>\n",
       "      <td>0</td>\n",
       "      <td>2.406945</td>\n",
       "      <td>0.805097</td>\n",
       "      <td>0.882672</td>\n",
       "      <td>4.857</td>\n",
       "      <td>8.554682</td>\n",
       "      <td>0</td>\n",
       "      <td>1</td>\n",
       "      <td>1.0</td>\n",
       "      <td>0.0</td>\n",
       "      <td>1.0</td>\n",
       "      <td>0.0</td>\n",
       "      <td>0.0</td>\n",
       "      <td>0.0</td>\n",
       "      <td>1.0</td>\n",
       "      <td>0.0</td>\n",
       "      <td>0</td>\n",
       "      <td>0</td>\n",
       "      <td>0</td>\n",
       "      <td>0</td>\n",
       "      <td>0</td>\n",
       "      <td>0</td>\n",
       "      <td>0</td>\n",
       "      <td>1</td>\n",
       "      <td>0</td>\n",
       "      <td>0</td>\n",
       "      <td>0</td>\n",
       "    </tr>\n",
       "    <tr>\n",
       "      <th>2</th>\n",
       "      <td>0.129533</td>\n",
       "      <td>2</td>\n",
       "      <td>1</td>\n",
       "      <td>1</td>\n",
       "      <td>1</td>\n",
       "      <td>0.25</td>\n",
       "      <td>1</td>\n",
       "      <td>6</td>\n",
       "      <td>0</td>\n",
       "      <td>2.406945</td>\n",
       "      <td>0.805097</td>\n",
       "      <td>0.882672</td>\n",
       "      <td>4.857</td>\n",
       "      <td>8.554682</td>\n",
       "      <td>0</td>\n",
       "      <td>1</td>\n",
       "      <td>1.0</td>\n",
       "      <td>0.0</td>\n",
       "      <td>1.0</td>\n",
       "      <td>0.0</td>\n",
       "      <td>0.0</td>\n",
       "      <td>0.0</td>\n",
       "      <td>1.0</td>\n",
       "      <td>0.0</td>\n",
       "      <td>1</td>\n",
       "      <td>0</td>\n",
       "      <td>0</td>\n",
       "      <td>0</td>\n",
       "      <td>0</td>\n",
       "      <td>0</td>\n",
       "      <td>0</td>\n",
       "      <td>0</td>\n",
       "      <td>0</td>\n",
       "      <td>0</td>\n",
       "      <td>0</td>\n",
       "    </tr>\n",
       "    <tr>\n",
       "      <th>3</th>\n",
       "      <td>1.774340</td>\n",
       "      <td>4</td>\n",
       "      <td>1</td>\n",
       "      <td>1</td>\n",
       "      <td>0</td>\n",
       "      <td>0.25</td>\n",
       "      <td>1</td>\n",
       "      <td>6</td>\n",
       "      <td>0</td>\n",
       "      <td>2.406945</td>\n",
       "      <td>0.805097</td>\n",
       "      <td>0.882672</td>\n",
       "      <td>4.857</td>\n",
       "      <td>8.554682</td>\n",
       "      <td>0</td>\n",
       "      <td>1</td>\n",
       "      <td>1.0</td>\n",
       "      <td>0.0</td>\n",
       "      <td>1.0</td>\n",
       "      <td>0.0</td>\n",
       "      <td>0.0</td>\n",
       "      <td>0.0</td>\n",
       "      <td>1.0</td>\n",
       "      <td>0.0</td>\n",
       "      <td>0</td>\n",
       "      <td>0</td>\n",
       "      <td>0</td>\n",
       "      <td>0</td>\n",
       "      <td>0</td>\n",
       "      <td>0</td>\n",
       "      <td>0</td>\n",
       "      <td>1</td>\n",
       "      <td>0</td>\n",
       "      <td>0</td>\n",
       "      <td>0</td>\n",
       "    </tr>\n",
       "    <tr>\n",
       "      <th>4</th>\n",
       "      <td>2.082742</td>\n",
       "      <td>5</td>\n",
       "      <td>1</td>\n",
       "      <td>1</td>\n",
       "      <td>1</td>\n",
       "      <td>0.25</td>\n",
       "      <td>1</td>\n",
       "      <td>6</td>\n",
       "      <td>0</td>\n",
       "      <td>2.406945</td>\n",
       "      <td>0.805097</td>\n",
       "      <td>0.882672</td>\n",
       "      <td>4.857</td>\n",
       "      <td>8.554682</td>\n",
       "      <td>0</td>\n",
       "      <td>1</td>\n",
       "      <td>1.0</td>\n",
       "      <td>0.0</td>\n",
       "      <td>1.0</td>\n",
       "      <td>0.0</td>\n",
       "      <td>0.0</td>\n",
       "      <td>0.0</td>\n",
       "      <td>1.0</td>\n",
       "      <td>0.0</td>\n",
       "      <td>1</td>\n",
       "      <td>0</td>\n",
       "      <td>0</td>\n",
       "      <td>0</td>\n",
       "      <td>0</td>\n",
       "      <td>0</td>\n",
       "      <td>0</td>\n",
       "      <td>0</td>\n",
       "      <td>0</td>\n",
       "      <td>0</td>\n",
       "      <td>0</td>\n",
       "    </tr>\n",
       "  </tbody>\n",
       "</table>\n",
       "</div>"
      ],
      "text/plain": [
       "       wiek  wyksztalcenie  ma_kredyt  kredyt_mieszkaniowy  ma_pozyczke  \\\n",
       "0  1.774340              1          1                    1            1   \n",
       "1 -0.178868              4          1                    0            1   \n",
       "2  0.129533              2          1                    1            1   \n",
       "3  1.774340              4          1                    1            0   \n",
       "4  2.082742              5          1                    1            1   \n",
       "\n",
       "   miesiac  liczba_polaczen_aktualnej_kampanii  liczba_dni_od_ost_kontaktu  \\\n",
       "0     0.25                                   1                           6   \n",
       "1     0.25                                   1                           6   \n",
       "2     0.25                                   1                           6   \n",
       "3     0.25                                   1                           6   \n",
       "4     0.25                                   1                           6   \n",
       "\n",
       "   liczba_polaczen_przed_aktualna_kampania  wsk_zmien_zatrudnienia  \\\n",
       "0                                        0                2.406945   \n",
       "1                                        0                2.406945   \n",
       "2                                        0                2.406945   \n",
       "3                                        0                2.406945   \n",
       "4                                        0                2.406945   \n",
       "\n",
       "   wsk_cen_konsum  wsk_zauf_konsum  euribor3m  liczba_pracownikow  target  \\\n",
       "0        0.805097         0.882672      4.857            8.554682       0   \n",
       "1        0.805097         0.882672      4.857            8.554682       0   \n",
       "2        0.805097         0.882672      4.857            8.554682       0   \n",
       "3        0.805097         0.882672      4.857            8.554682       0   \n",
       "4        0.805097         0.882672      4.857            8.554682       0   \n",
       "\n",
       "   aktywnie_pracujacy  sposob_kontaktu_telephone  stan_cywilny_divorced  \\\n",
       "0                   1                        1.0                    0.0   \n",
       "1                   1                        1.0                    0.0   \n",
       "2                   1                        1.0                    0.0   \n",
       "3                   1                        1.0                    0.0   \n",
       "4                   1                        1.0                    0.0   \n",
       "\n",
       "   stan_cywilny_married  stan_cywilny_single  stan_cywilny_unknown  \\\n",
       "0                   1.0                  0.0                   0.0   \n",
       "1                   1.0                  0.0                   0.0   \n",
       "2                   1.0                  0.0                   0.0   \n",
       "3                   1.0                  0.0                   0.0   \n",
       "4                   1.0                  0.0                   0.0   \n",
       "\n",
       "   wynik_poprzedniej_kampanii_failure  wynik_poprzedniej_kampanii_nonexistent  \\\n",
       "0                                 0.0                                     1.0   \n",
       "1                                 0.0                                     1.0   \n",
       "2                                 0.0                                     1.0   \n",
       "3                                 0.0                                     1.0   \n",
       "4                                 0.0                                     1.0   \n",
       "\n",
       "   wynik_poprzedniej_kampanii_success  admin.  blue-collar  entrepreneur  \\\n",
       "0                                 0.0       0            0             0   \n",
       "1                                 0.0       0            0             0   \n",
       "2                                 0.0       1            0             0   \n",
       "3                                 0.0       0            0             0   \n",
       "4                                 0.0       1            0             0   \n",
       "\n",
       "   housemaid  management  retired  self-employed  services  student  \\\n",
       "0          1           0        0              0         0        0   \n",
       "1          0           0        0              0         1        0   \n",
       "2          0           0        0              0         0        0   \n",
       "3          0           0        0              0         1        0   \n",
       "4          0           0        0              0         0        0   \n",
       "\n",
       "   technician  unemployed  \n",
       "0           0           0  \n",
       "1           0           0  \n",
       "2           0           0  \n",
       "3           0           0  \n",
       "4           0           0  "
      ]
     },
     "execution_count": 9,
     "metadata": {},
     "output_type": "execute_result"
    }
   ],
   "source": [
    "df.head()"
   ]
  },
  {
   "cell_type": "markdown",
   "id": "a0388c3f-8c9a-4e3b-81d6-43868d1c09b7",
   "metadata": {},
   "source": [
    "## Przygotowanie modeli"
   ]
  },
  {
   "cell_type": "code",
   "execution_count": 20,
   "id": "f4f98be8-3162-458d-a797-faffb2c27409",
   "metadata": {},
   "outputs": [],
   "source": [
    "def build_model(model, name):\n",
    "    global X_train, y_train, X_test, y_test, decomp\n",
    "    plt.figure(dpi=50)\n",
    "    model.fit(X_train, y_train)\n",
    "    y_pred = model.predict(X_test)\n",
    "\n",
    "    print(\"-\" * 3 + \" \" + name + \" \" + \"-\" * 3)\n",
    "    print(classification_report(y_test, y_pred))\n",
    "    print(\"-\" * 10)\n",
    "    print(\"Area under curve\\n\", roc_auc_score(y_test, y_pred))\n",
    "    \n",
    "    try:\n",
    "        proba = model.predict_proba(X_test)[:, 1]\n",
    "    except:\n",
    "        proba = model.decision_function(X_test)\n",
    "        \n",
    "    fpr, tpr, *_ = roc_curve(y_test, proba)\n",
    "    plt.plot(fpr, tpr, linestyle='--')\n",
    "    print(\"-\" * 10)\n",
    "    print(\"Crosstab\")\n",
    "    print(pd.crosstab(y_test, y_pred, rownames=[\"Actual\"], colnames=[\"Predicted\"]))"
   ]
  },
  {
   "cell_type": "code",
   "execution_count": 21,
   "id": "a3d328c2-9e9f-4b8c-bcad-b459ca509678",
   "metadata": {},
   "outputs": [],
   "source": [
    "lr = LogisticRegression(max_iter=10000, class_weight=ratio)\n",
    "svm = LinearSVC(C=0.0001, class_weight=ratio)\n",
    "dtc = DecisionTreeClassifier(\n",
    "    max_depth=10,\n",
    "    random_state=RANDOM_STATE,\n",
    "    class_weight=ratio,\n",
    ")\n",
    "rfc = RandomForestClassifier(\n",
    "    n_estimators=10000,\n",
    "    n_jobs=8,\n",
    "    random_state=RANDOM_STATE,\n",
    "    class_weight=ratio,\n",
    ")\n",
    "knn = KNeighborsClassifier(n_neighbors=50)\n",
    "\n",
    "models = [\n",
    "    (lr, \"LogisticRegression\"),\n",
    "    (svm, \"SVM\"),\n",
    "    (dtc, \"DecisionTree\"),\n",
    "    (rfc, \"RandomForest\"),\n",
    "]"
   ]
  },
  {
   "cell_type": "markdown",
   "id": "3154ca2d-515e-42cd-beb2-e38e2c1368fc",
   "metadata": {},
   "source": [
    "### Ewaluacja modeli"
   ]
  },
  {
   "cell_type": "code",
   "execution_count": 22,
   "id": "36440e1e-9485-4f04-a65c-5c2ceac50d19",
   "metadata": {},
   "outputs": [
    {
     "name": "stdout",
     "output_type": "stream",
     "text": [
      "--- KNN ---\n",
      "              precision    recall  f1-score   support\n",
      "\n",
      "           0       0.90      0.99      0.94      4353\n",
      "           1       0.71      0.23      0.35       647\n",
      "\n",
      "    accuracy                           0.89      5000\n",
      "   macro avg       0.80      0.61      0.64      5000\n",
      "weighted avg       0.87      0.89      0.86      5000\n",
      "\n",
      "----------\n",
      "Area under curve\n",
      " 0.608025306145347\n",
      "----------\n",
      "Crosstab\n",
      "Predicted     0    1\n",
      "Actual              \n",
      "0          4291   62\n",
      "1           498  149\n"
     ]
    },
    {
     "data": {
      "image/png": "[encoded data removed]",
      "text/plain": [
       "<Figure size 400x300 with 1 Axes>"
      ]
     },
     "metadata": {},
     "output_type": "display_data"
    }
   ],
   "source": [
    "build_model(knn, \"KNN\")"
   ]
  },
  {
   "cell_type": "code",
   "execution_count": 18,
   "id": "f07120ca-f436-4d4f-9b81-d8a631a3cd42",
   "metadata": {},
   "outputs": [
    {
     "name": "stdout",
     "output_type": "stream",
     "text": [
      "--- LogisticRegression ---\n",
      "              precision    recall  f1-score   support\n",
      "\n",
      "           0       0.94      0.79      0.86      4353\n",
      "           1       0.32      0.68      0.44       647\n",
      "\n",
      "    accuracy                           0.77      5000\n",
      "   macro avg       0.63      0.73      0.65      5000\n",
      "weighted avg       0.86      0.77      0.80      5000\n",
      "\n",
      "----------\n",
      "Area under curve\n",
      " 0.7339808286562484\n",
      "----------\n",
      "Crosstab\n",
      "Predicted     0    1\n",
      "Actual              \n",
      "0          3423  930\n",
      "1           206  441\n"
     ]
    },
    {
     "data": {
      "image/png": "[encoded data removed]",
      "text/plain": [
       "<Figure size 400x300 with 1 Axes>"
      ]
     },
     "metadata": {},
     "output_type": "display_data"
    }
   ],
   "source": [
    "build_model(lr, \"LogisticRegression\")"
   ]
  },
  {
   "cell_type": "code",
   "execution_count": 23,
   "id": "65f8d985-2dc4-4852-8f57-f4af41f3a9a7",
   "metadata": {},
   "outputs": [
    {
     "name": "stdout",
     "output_type": "stream",
     "text": [
      "--- SupportedVectorMachines ---\n",
      "              precision    recall  f1-score   support\n",
      "\n",
      "           0       0.95      0.72      0.82      4353\n",
      "           1       0.28      0.73      0.41       647\n",
      "\n",
      "    accuracy                           0.72      5000\n",
      "   macro avg       0.62      0.73      0.61      5000\n",
      "weighted avg       0.86      0.72      0.77      5000\n",
      "\n",
      "----------\n",
      "Area under curve\n",
      " 0.7286685335949447\n",
      "----------\n",
      "Crosstab\n",
      "Predicted     0     1\n",
      "Actual               \n",
      "0          3148  1205\n",
      "1           172   475\n"
     ]
    },
    {
     "data": {
      "image/png": "[encoded data removed]",
      "text/plain": [
       "<Figure size 400x300 with 1 Axes>"
      ]
     },
     "metadata": {},
     "output_type": "display_data"
    }
   ],
   "source": [
    "build_model(svm, \"SupportedVectorMachines\")"
   ]
  },
  {
   "cell_type": "code",
   "execution_count": 24,
   "id": "a2ed49d7-c73d-45c3-a5b1-e4323e060783",
   "metadata": {},
   "outputs": [
    {
     "name": "stdout",
     "output_type": "stream",
     "text": [
      "--- DecisionTreeClassifier ---\n",
      "              precision    recall  f1-score   support\n",
      "\n",
      "           0       0.93      0.87      0.90      4353\n",
      "           1       0.39      0.58      0.47       647\n",
      "\n",
      "    accuracy                           0.83      5000\n",
      "   macro avg       0.66      0.72      0.68      5000\n",
      "weighted avg       0.86      0.83      0.84      5000\n",
      "\n",
      "----------\n",
      "Area under curve\n",
      " 0.7246927006939022\n",
      "----------\n",
      "Crosstab\n",
      "Predicted     0    1\n",
      "Actual              \n",
      "0          3766  587\n",
      "1           269  378\n"
     ]
    },
    {
     "data": {
      "image/png": "[encoded data removed]",
      "text/plain": [
       "<Figure size 400x300 with 1 Axes>"
      ]
     },
     "metadata": {},
     "output_type": "display_data"
    }
   ],
   "source": [
    "build_model(dtc, \"DecisionTreeClassifier\")"
   ]
  },
  {
   "cell_type": "code",
   "execution_count": null,
   "id": "1f8c1ef1-f33c-4579-a550-01ed7b6e32a6",
   "metadata": {},
   "outputs": [],
   "source": [
    "build_model(rfc, \"RandomForestClassifier\")"
   ]
  },
  {
   "cell_type": "markdown",
   "id": "b8c59092-e774-45b0-a2d7-f8c38444d068",
   "metadata": {},
   "source": [
    "#### Na podstawie powyższych wyników, możemy zaobserwować, że najlepszym wyborem będzie algorytm _Decision tree_."
   ]
  },
  {
   "cell_type": "code",
   "execution_count": null,
   "id": "474c16b3-bad0-42ba-8848-fd68d616fc0c",
   "metadata": {},
   "outputs": [],
   "source": [
    "n_components = list(range(1, X.shape[1] + 1, 1))\n",
    "criterion = [\"gini\", \"entropy\"]\n",
    "max_depth = list(range(2, 51, 2))\n",
    "parameters = dict(\n",
    "    criterion=criterion,\n",
    "    max_depth=max_depth,\n",
    "    class_weight=[ratio],\n",
    "    max_features=[\"sqrt\", \"auto\"],\n",
    ")"
   ]
  },
  {
   "cell_type": "code",
   "execution_count": null,
   "id": "56537193-b665-4ad7-99e1-249cb3934f48",
   "metadata": {},
   "outputs": [],
   "source": [
    "gs = GridSearchCV(DecisionTreeClassifier(), parameters, scoring=\"f1\")"
   ]
  },
  {
   "cell_type": "markdown",
   "id": "b75fbf58-fedc-40eb-8ec7-08081b84ffc6",
   "metadata": {},
   "source": [
    "#### Walidacja na podstawie wcześniejszego \"odłożenia\" podzbioru z suffixem _validate_"
   ]
  },
  {
   "cell_type": "code",
   "execution_count": null,
   "id": "4fedd63c-c544-40c9-9c21-5c5167468aa3",
   "metadata": {},
   "outputs": [],
   "source": [
    "gs.fit(X_validate, y_validate)"
   ]
  },
  {
   "cell_type": "code",
   "execution_count": null,
   "id": "b077825d-b87c-4021-b2b6-69e640b4e94f",
   "metadata": {},
   "outputs": [],
   "source": [
    "gs.best_params_"
   ]
  },
  {
   "cell_type": "code",
   "execution_count": null,
   "id": "cd1652c7-c767-482d-92d9-c530fff8a76e",
   "metadata": {},
   "outputs": [],
   "source": [
    "dct = DecisionTreeClassifier(\n",
    "    max_features=\"sqrt\", max_depth=8, criterion=\"entropy\", class_weight=ratio\n",
    ")\n",
    "build_model(dct, \"DCT\")"
   ]
  },
  {
   "cell_type": "markdown",
   "id": "4e6e0828-6599-4d3c-a285-553d6dfbcfce",
   "metadata": {},
   "source": [
    "# Wnioski"
   ]
  },
  {
   "cell_type": "markdown",
   "id": "bbeefbf2-2698-467e-8b95-9328e1c731ac",
   "metadata": {},
   "source": [
    "Podstawowe algorytmy do binarnej klasyfikacji, okazały się być niewystarczające. "
   ]
  }
 ],
 "metadata": {
  "kernelspec": {
   "display_name": "Python 3 (ipykernel)",
   "language": "python",
   "name": "python3"
  },
  "language_info": {
   "codemirror_mode": {
    "name": "ipython",
    "version": 3
   },
   "file_extension": ".py",
   "mimetype": "text/x-python",
   "name": "python",
   "nbconvert_exporter": "python",
   "pygments_lexer": "ipython3",
   "version": "3.9.13"
  }
 },
 "nbformat": 4,
 "nbformat_minor": 5
}
