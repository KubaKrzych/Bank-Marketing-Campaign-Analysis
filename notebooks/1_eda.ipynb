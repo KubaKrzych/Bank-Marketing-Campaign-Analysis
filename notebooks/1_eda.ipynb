{
 "cells": [
  {
   "cell_type": "code",
   "execution_count": null,
   "id": "5e5d6452-c42e-4b08-b7af-34279bdaa527",
   "metadata": {},
   "outputs": [],
   "source": [
    "import os\n",
    "\n",
    "import matplotlib.pyplot as plt\n",
    "import missingno as msno\n",
    "import numpy as np\n",
    "import pandas as pd\n",
    "import seaborn as sns\n",
    "from pandas_profiling import ProfileReport\n",
    "from statsmodels.graphics.mosaicplot import mosaic"
   ]
  },
  {
   "cell_type": "code",
   "execution_count": null,
   "id": "79df8e01-21fc-4f08-9485-f09850dc1e5e",
   "metadata": {},
   "outputs": [],
   "source": [
    "pd.set_option(\"display.max_columns\", None)\n",
    "pd.set_option(\"display.max_colwidth\", None)\n",
    "plt.rcParams[\"figure.figsize\"] = (8, 6)\n",
    "plt.rcParams[\"figure.dpi\"] = 100\n",
    "plt.style.use(\"bmh\")"
   ]
  },
  {
   "cell_type": "code",
   "execution_count": null,
   "id": "ec542542",
   "metadata": {},
   "outputs": [],
   "source": [
    "os.chdir(\"..\")"
   ]
  },
  {
   "cell_type": "markdown",
   "id": "c7bbb569",
   "metadata": {},
   "source": [
    "# Quickstart\n",
    "1. [Import danych](#Import-danych-i-podstawowe-informacje-o-zbiorze)\n",
    "2. [Wykresy](#Wykresy-i-wnioski-przyblizajace-zbior-danych)\n",
    "3. [Potencjalne pytania](#Pytania,-ktore-moga-potencjalnie-naprowadzic-na-cechy,-ktore-maja-wieksze-znaczenie-dla-predykcji-targetu)\n",
    "4. [Key takeaways](#Key-takeaways)"
   ]
  },
  {
   "cell_type": "markdown",
   "id": "cf9989c4-1171-47fd-84a8-ebcf858365ef",
   "metadata": {},
   "source": [
    "# Import danych i podstawowe informacje o zbiorze"
   ]
  },
  {
   "cell_type": "code",
   "execution_count": null,
   "id": "a0b00c6e-24ff-4dd4-86ed-f42892c863c1",
   "metadata": {},
   "outputs": [],
   "source": [
    "df = pd.read_csv(\"data/bank-additional-full.csv\", sep=\";\")"
   ]
  },
  {
   "cell_type": "code",
   "execution_count": null,
   "id": "aabee9c2-c74c-4e4f-afa5-0a5a917b5975",
   "metadata": {},
   "outputs": [],
   "source": [
    "df.head()"
   ]
  },
  {
   "cell_type": "code",
   "execution_count": null,
   "id": "494f0da4-585f-4e88-b444-13d39a0e7df9",
   "metadata": {},
   "outputs": [],
   "source": [
    "df.tail()"
   ]
  },
  {
   "cell_type": "code",
   "execution_count": null,
   "id": "5470a4c8-d712-42e9-9ec4-f14c97449588",
   "metadata": {},
   "outputs": [],
   "source": [
    "df.info()"
   ]
  },
  {
   "cell_type": "code",
   "execution_count": null,
   "id": "2b16bbb9-2d5b-48c1-a63a-d2d9d2c0317a",
   "metadata": {},
   "outputs": [],
   "source": [
    "df.describe()"
   ]
  },
  {
   "cell_type": "code",
   "execution_count": null,
   "id": "a98a9684-74e3-465b-9471-bbe913d2660b",
   "metadata": {},
   "outputs": [],
   "source": [
    "df.nunique()"
   ]
  },
  {
   "cell_type": "code",
   "execution_count": null,
   "id": "4daf65bd-d6a9-4452-a7ef-58ee4e45bb12",
   "metadata": {},
   "outputs": [],
   "source": [
    "df = df.rename(columns={\"y\": \"target\"})\n",
    "df[\"target\"] = df.target.map({\"yes\": 1, \"no\": 0})\n",
    "df = df.astype({\"target\": \"int0\"})"
   ]
  },
  {
   "cell_type": "markdown",
   "id": "cc4d2346-1586-4c7b-92dd-c5373f3f5089",
   "metadata": {},
   "source": [
    "#  Wykresy i wnioski przyblizajace zbior danych"
   ]
  },
  {
   "cell_type": "code",
   "execution_count": null,
   "id": "c7b5fa26",
   "metadata": {},
   "outputs": [],
   "source": [
    "fig, axs = plt.subplots(10, figsize=(15, 24))\n",
    "\n",
    "for ind, feature in enumerate(df.select_dtypes(\"object\")):\n",
    "    sns.countplot(data=df, x=feature, hue=\"target\", ax=axs[ind])\n",
    "\n",
    "plt.subplots_adjust(hspace=0.3)"
   ]
  },
  {
   "cell_type": "markdown",
   "id": "ad7c2074",
   "metadata": {},
   "source": [
    "### Wnioski\n",
    "- Najwiecej rozmow przeprowadza sie w okresie letnim.\n",
    "- Znaczna wiekszosc osob nie bralo kredytu.\n",
    "- Podobna ilosc osob maja do splacenia kredyt mieszkaniowy, do osob ktore takowego kredytu nie posiadaja w ogole.\n",
    "- Pomijalna ilosc osob, ktore maja do splacenia wlasny kredyt.\n",
    "- Wiekszosc osob ma wyksztalcenie wyzsze, lub srednie.\n",
    "- Wiecej niz polowa osob jest w zwiążku małżeńskim. Co wazniejsze, porownujac target dla osob, bedacych singlami, do osob bedacych w związku, to mimo ze singli jest dwa razy mniej, to ilosc osob, dla ktorych _target_ jest rowny __1__, jest podobna.\n",
    "- Znaczna wiekszosc osob ze zbioru danych to; _technician_, _admin_, lub _blue collar_."
   ]
  },
  {
   "cell_type": "code",
   "execution_count": null,
   "id": "303d1b20",
   "metadata": {},
   "outputs": [],
   "source": [
    "fig, axs = plt.subplots(11, figsize=(18, 24))\n",
    "\n",
    "for ind, feature in enumerate(df.select_dtypes(exclude=\"object\")):\n",
    "    sns.histplot(\n",
    "        data=df,\n",
    "        x=feature,\n",
    "        hue=\"target\",\n",
    "        ax=axs[ind],\n",
    "        bins=(2 * int(np.sqrt(df[feature].nunique()))),\n",
    "    )\n",
    "\n",
    "plt.subplots_adjust(hspace=0.4)"
   ]
  },
  {
   "cell_type": "markdown",
   "id": "af1f9abf",
   "metadata": {},
   "source": [
    "### Wnioski\n",
    "- Im dłużej trwa rozmowa tym większa procentowo szansa na akceptację oferty.\n",
    "- Głównym targetem kampanii byłu osoby między 27 a 37 rokiem życia.\n",
    "- Nie warto przeprowadzać więcej niż około 5 rozmów z klientem oferując mu tę samą kampanię.\n",
    "- Większość osób, które niedawno akceptowały poprzednią ofertę akceptują też tą oferte\n",
    "- Ofertę akceptują głównie osoby, które rzadko zmieniają pracę\n",
    "- Procentowo więcej osób akceptuję oferte gdy ich nr_employed jest mniejszy (około 4950-5050), pomimo faktu że głównym targetem były osoby z nr_employed około 5170-5230"
   ]
  },
  {
   "cell_type": "code",
   "execution_count": null,
   "id": "41cd70fc",
   "metadata": {},
   "outputs": [],
   "source": [
    "plt.figure(\n",
    "    dpi=300,\n",
    ")\n",
    "subset = df[~df[\"education\"].isin([\"unknown\", \"illiterate\"])]\n",
    "subset = df[~df[\"job\"].isin([\"unknown\", \"housemaid\"])]\n",
    "mosaic(\n",
    "    subset,\n",
    "    [\"education\", \"job\"],\n",
    "    labelizer=lambda x: \"\" + x[1][:4] + \"--\" + x[0][:4],\n",
    "    label_rotation=[45, 0],\n",
    "    gap=0.02,\n",
    ")\n",
    "plt.show()"
   ]
  },
  {
   "cell_type": "code",
   "execution_count": null,
   "id": "e6c349cd-bca3-42a1-9ef2-02069d9ea326",
   "metadata": {},
   "outputs": [],
   "source": [
    "subset = pd.crosstab([df.education, df.job], df.target)\n",
    "subset.xs((\"university.degree\"), level=\"education\").T[\n",
    "    [\"admin.\", \"technician\", \"management\"]\n",
    "]"
   ]
  },
  {
   "cell_type": "code",
   "execution_count": null,
   "id": "53ebd794-86dc-468c-97a7-6a521de1d039",
   "metadata": {},
   "outputs": [],
   "source": [
    "subset = pd.crosstab([df.education, df.job], df.target)\n",
    "subset.xs((\"high.school\"), level=\"education\").T[[\"admin.\", \"services\"]]"
   ]
  },
  {
   "cell_type": "markdown",
   "id": "980adff1",
   "metadata": {},
   "source": [
    "#### Wnioski\n",
    "- Admini ze stopniem naukowym chętniej akceptuja ofertę depozytu niż osoby pracujące jako admin z wykształceniem średnim"
   ]
  },
  {
   "cell_type": "code",
   "execution_count": null,
   "id": "4677e5f5-3a84-42e3-8454-f8f486d31f70",
   "metadata": {},
   "outputs": [],
   "source": [
    "sns.pairplot(\n",
    "    df.sample(1000).select_dtypes(exclude=\"object\"),\n",
    "    hue=\"target\",\n",
    "    markers=\"o\",\n",
    "    diag_kind=\"kde\",\n",
    ")"
   ]
  },
  {
   "cell_type": "markdown",
   "id": "f384eb2f",
   "metadata": {},
   "source": [
    "#### Wnioski\n",
    "- Wiekszość par nie pomaga nam w jednoznacznym określeniu czy klient zgodzi się na ofertę, czy nię. Najlepszy efekty daje jednak połączoenie kolumn pdays i emp.var.rate oraz previous i pdays"
   ]
  },
  {
   "cell_type": "code",
   "execution_count": null,
   "id": "7b4ea2ce",
   "metadata": {},
   "outputs": [],
   "source": [
    "sns.catplot(\n",
    "    hue=\"target\",\n",
    "    x=\"poutcome\",\n",
    "    y=\"campaign\",\n",
    "    kind=\"point\",\n",
    "    data=df,\n",
    ")\n",
    "sns.catplot(\n",
    "    hue=\"target\",\n",
    "    x=\"poutcome\",\n",
    "    y=\"cons.conf.idx\",\n",
    "    kind=\"point\",\n",
    "    data=df,\n",
    ")"
   ]
  },
  {
   "cell_type": "markdown",
   "id": "23fa54c4",
   "metadata": {},
   "source": [
    "### Wnioski\n",
    "- Jeżeli bank kontaktował się w sprawie poprzedniej oferty, to bez względu na jej rezultat, przy tej kampanii potrzeba było mniej kontaktów z klientem, aby określić czy jest zainteresowany oferta\n",
    "- Osoby, które zgodziły się na poprzednią ofertę potrzebują mało kontaktów (mniej niż 2), aby określic czy są czy nie zainteresowani\n",
    "- Klienci, którzy zgadzają się na oferty banku mają wyższy indeks klienta.\n",
    "- Najwyższe indeksy klienta mają osoby które bardzo często zgadzają się na oferty banku."
   ]
  },
  {
   "cell_type": "code",
   "execution_count": null,
   "id": "a23d7413",
   "metadata": {},
   "outputs": [],
   "source": [
    "sns.scatterplot(data=df, x=\"age\", y=\"campaign\", hue=\"target\");"
   ]
  },
  {
   "cell_type": "markdown",
   "id": "92d1ca19",
   "metadata": {},
   "source": [
    "### Wnioski\n",
    "- Bez względu na wiek większość osób zgadza się na zaakceptowanie kampanii po max kilku kontaktach\n",
    "- Osoby z którymi kontaktowano się więcej niż 10 razy praktycznie nie zgadzają się na ofertę.\n",
    "- Żadna z grup wiekowych znacząco nie wyróżnia pod względem ilości kontaków potrzebnych do zaakceptowania kampanii\n",
    "- Praktycznie bezsensowne jest kontaktowanie z klientem więcej niż kilka razy, ponieważ jeżeli osoba nie zgodziła się w kilku pierwszych podejściach to nie zgodzi się i w kolejnych"
   ]
  },
  {
   "cell_type": "code",
   "execution_count": null,
   "id": "9d7c32f8-7a41-444e-91c8-554971f761f4",
   "metadata": {},
   "outputs": [],
   "source": [
    "sns.heatmap(\n",
    "    data=df.select_dtypes(exclude=\"object\").corr(),\n",
    ");"
   ]
  },
  {
   "cell_type": "markdown",
   "id": "c1f9cf70",
   "metadata": {},
   "source": [
    "#### Wnioski\n",
    "- Silna korelacja cechy _duration_ z _target'em_\n",
    "- Warto zwrocic uwage na silna korelacje miedzy wartosciami z grupy cech _social and economic context attributes_.\n",
    "- Wzglednie silna korelacja miedzy _pdays_, a cechami _nr\\_employed_, oraz silnie ujemna z _previous_.\n",
    "- Kolumny euribor3m i nr.employed mają wysoki poziom korelacji warto rozważyć usunięcie jednej z tych kolumn ponieważ jej dane nie będą wnosiły wiele do modelu\n",
    "- Podobna sytuacja występuje dla kolumn euribor3m i emp.var.rate"
   ]
  },
  {
   "cell_type": "code",
   "execution_count": null,
   "id": "6bcd5454",
   "metadata": {},
   "outputs": [],
   "source": [
    "msno.bar(df);"
   ]
  },
  {
   "cell_type": "markdown",
   "id": "7329b4db",
   "metadata": {},
   "source": [
    "#### Wnioski\n",
    "Zbior danych, nie zawiera zadnych brakow."
   ]
  },
  {
   "cell_type": "markdown",
   "id": "4ac0634f",
   "metadata": {},
   "source": [
    "#### Usuniecie wierszy zduplikowanych, czyli bedacych powtorzeniem wiersza, ktory wczesniej juz wystapil (te, nie sa brane pod uwage."
   ]
  },
  {
   "cell_type": "code",
   "execution_count": null,
   "id": "6e31ce19",
   "metadata": {},
   "outputs": [],
   "source": [
    "df = df.loc[~df.duplicated()]"
   ]
  },
  {
   "cell_type": "markdown",
   "id": "1bfc1c31",
   "metadata": {},
   "source": [
    "##### Profile Report report jako widget (odkomentowac komorke ponizej)"
   ]
  },
  {
   "cell_type": "code",
   "execution_count": null,
   "id": "19ef7342",
   "metadata": {},
   "outputs": [],
   "source": [
    "# pr = ProfileReport()\n",
    "# pr.to_widgets()"
   ]
  },
  {
   "cell_type": "markdown",
   "id": "5c11af48-9865-4ce1-b89d-be806247704a",
   "metadata": {},
   "source": [
    "# Pytania, ktore moga potencjalnie naprowadzic na cechy, ktore maja wieksze znaczenie dla predykcji targetu\n",
    "- Zbior danych zawiera wiele kolumn bedacych tekstem. Z tego tez powodu, nalezy pochylic sie nad procesem zamiany tekstu na wartosci liczbowe za pomoca roznego typu procesow _encoding_.\n",
    "- Czy kolumny zwiazane z _social and economic context attributes_ maja faktyczne znaczenie dla predykcji? Sa bowiem one zmienne w okresach kwartalnych/miesiecznych i sa niezmienne dla pewnej grupy obserwacji.\n",
    "- Kolumny z wczesniej wymienionej kategorii moga miec duze znaczenie dla zbioru danych, gdyz wskazuja na stopien zatrudnienia w kraju i stope procentowa, a ta moze miec ogromne znaczenie dla checi klientow do depozytu. Sa to bardzo wazne wspolczynniki, gdyz pozwola uogolnic model, do jego szerszego przystosowania."
   ]
  },
  {
   "cell_type": "markdown",
   "id": "d7379321-29d5-442d-b3e9-ac2b443dd842",
   "metadata": {},
   "source": [
    "# Key takeaways\n",
    "- Trzeba pamietac, ze _unknown_ mozna uznac za klase, lub zmapowac jako pd.NA, bo nie znamy tej wartosci. Warto przyjrzec sie poszczegolnym cechom, w ktorej mozna zaobserwowac obiekty o wartosci cech _unknown_ i sprobowac aproksymowac wartosc tej cechy, na podstawie grupy obiektow, lub tez wyrzucic te obiekty, ktore maja ceche _unknown_, jesli ilosc jej obserwacji jest znikoma na tle calego zbioru danych.\n",
    "- Warto zmapowac kolumny yes/no/unkown na 1/0/-1\n",
    "- wartosc __999__ w kolumnie _pdays_ oznacza, ze nie kontaktowano sie z dana osoba\n",
    "- kolumna _duration_, nie powinna pod zadnym pozorem zostac uzyta do trenowania modelu, a jedynie jego walidacji\n",
    "- Wskaznik _Euribor_ to srednia arytmetyczna wiborow (stop procentowych,  podawanych przez banki UE "
   ]
  },
  {
   "cell_type": "code",
   "execution_count": null,
   "id": "94e0e970",
   "metadata": {},
   "outputs": [],
   "source": [
    "dict_eng_to_pl = {\n",
    "    \"y\": \"target\",\n",
    "    \"emp.var.rate\": \"wsk_zmien_zatrudnienia\",\n",
    "    \"cons.price.idx\": \"wsk_cen_konsum\",\n",
    "    \"cons.conf.idx\": \"wsk_zauf_konsum\",\n",
    "    \"nr.employed\": \"liczba_pracownikow\",\n",
    "    \"age\": \"wiek\",\n",
    "    \"job\": \"zawod\",\n",
    "    \"marital\": \"stan_cywilny\",\n",
    "    \"education\": \"wyksztalcenie\",\n",
    "    \"default\": \"ma_kredyt\",\n",
    "    \"housing\": \"kredyt_mieszkaniowy\",\n",
    "    \"loan\": \"ma_pozyczke\",\n",
    "    \"contact\": \"sposob_kontaktu\",\n",
    "    \"month\": \"miesiac\",\n",
    "    \"campaign\": \"liczba_polaczen_aktualnej_kampanii\",\n",
    "    \"pdays\": \"liczba_dni_od_ost_kontaktu\",\n",
    "    \"previous\": \"liczba_polaczen_przed_aktualna_kampania\",\n",
    "    \"poutcome\": \"wynik_poprzedniej_kampanii\",\n",
    "    \"duration\": \"dl_polaczenia\",\n",
    "}\n",
    "df = df.rename(columns=dict_eng_to_pl)"
   ]
  },
  {
   "cell_type": "code",
   "execution_count": null,
   "id": "87514d37-c21a-4d80-bd7c-4b07135c841b",
   "metadata": {
    "scrolled": true
   },
   "outputs": [],
   "source": [
    "df.to_csv(\"data/precleaned.csv\")"
   ]
  }
 ],
 "metadata": {
  "kernelspec": {
   "display_name": "Python 3 (ipykernel)",
   "language": "python",
   "name": "python3"
  },
  "language_info": {
   "codemirror_mode": {
    "name": "ipython",
    "version": 3
   },
   "file_extension": ".py",
   "mimetype": "text/x-python",
   "name": "python",
   "nbconvert_exporter": "python",
   "pygments_lexer": "ipython3",
   "version": "3.9.13"
  }
 },
 "nbformat": 4,
 "nbformat_minor": 5
}
