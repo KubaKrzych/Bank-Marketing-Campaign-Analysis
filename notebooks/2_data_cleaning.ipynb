{
 "cells": [
  {
   "cell_type": "code",
   "execution_count": null,
   "id": "39f351be-ebfe-4e69-869e-2d372fc67d7a",
   "metadata": {},
   "outputs": [],
   "source": [
    "import os\n",
    "\n",
    "import matplotlib.pyplot as plt\n",
    "import numpy as np\n",
    "import pandas as pd\n",
    "import seaborn as sns\n",
    "from scipy import stats"
   ]
  },
  {
   "cell_type": "code",
   "execution_count": null,
   "id": "5d0a57d3",
   "metadata": {},
   "outputs": [],
   "source": [
    "pd.set_option(\"display.max_columns\", None)\n",
    "pd.set_option(\"display.max_colwidth\", None)\n",
    "plt.rcParams[\"figure.figsize\"] = (8, 6)\n",
    "plt.rcParams[\"figure.dpi\"] = 100\n",
    "plt.style.use(\"bmh\")"
   ]
  },
  {
   "cell_type": "code",
   "execution_count": null,
   "id": "d0bd5638",
   "metadata": {},
   "outputs": [],
   "source": [
    "os.chdir(\"..\")"
   ]
  },
  {
   "cell_type": "code",
   "execution_count": null,
   "id": "13629a80",
   "metadata": {},
   "outputs": [],
   "source": [
    "df = pd.read_csv(\"data/precleaned.csv\", index_col=0)"
   ]
  },
  {
   "cell_type": "code",
   "execution_count": null,
   "id": "b0763e0b-c123-4a03-89de-7f3f30bf68e1",
   "metadata": {},
   "outputs": [],
   "source": [
    "df = df.reset_index(drop=True)"
   ]
  },
  {
   "cell_type": "code",
   "execution_count": null,
   "id": "04e5a281",
   "metadata": {},
   "outputs": [],
   "source": [
    "df.head()"
   ]
  },
  {
   "cell_type": "markdown",
   "id": "f8074b49",
   "metadata": {},
   "source": [
    "# Quickstart\n",
    "1. [Import danych](#Import-danych-i-podstawowe-informacje-o-zbiorze)\n",
    "2. [Wykresy](#Wykresy-i-wnioski-przyblizajace-zbior-danych)\n",
    "3. [Potencjalne pytania](#Pytania,-ktore-moga-potencjalnie-naprowadzic-na-cechy,-ktore-maja-wieksze-znaczenie-dla-predykcji-targetu)\n",
    "4. [Key takeaways](#Key-takeaways)"
   ]
  },
  {
   "cell_type": "markdown",
   "id": "0b6c57b0",
   "metadata": {},
   "source": [
    "# Detekcja wartosci odstajacych"
   ]
  },
  {
   "cell_type": "code",
   "execution_count": null,
   "id": "1e3e60ad",
   "metadata": {},
   "outputs": [],
   "source": [
    "df.describe()"
   ]
  },
  {
   "cell_type": "markdown",
   "id": "53bf0323-1847-4cb1-86cd-8d21ef41834f",
   "metadata": {},
   "source": [
    "## Cechy numeryczne"
   ]
  },
  {
   "cell_type": "code",
   "execution_count": null,
   "id": "7665a5d6",
   "metadata": {},
   "outputs": [],
   "source": [
    "subset = df.select_dtypes(exclude=\"object\")"
   ]
  },
  {
   "cell_type": "code",
   "execution_count": null,
   "id": "a8fcd970",
   "metadata": {},
   "outputs": [],
   "source": [
    "fig, axs = plt.subplots(len(subset.columns), dpi=200, figsize=(12, 22))\n",
    "\n",
    "for ind, feature in enumerate(subset.columns):\n",
    "    sns.boxplot(data=df, x=df[feature], y=\"target\", ax=axs[ind], orient=\"h\")\n",
    "\n",
    "plt.subplots_adjust(hspace=0.7)"
   ]
  },
  {
   "cell_type": "markdown",
   "id": "8d69942e-7479-4cde-b5b6-f54f783486ca",
   "metadata": {},
   "source": [
    "#### Jakies spostrzezenia dla tych cech gdzie cos ciekawego widac\n",
    "-\n",
    "-\n",
    "-"
   ]
  },
  {
   "cell_type": "markdown",
   "id": "b8a7d90e",
   "metadata": {},
   "source": [
    "### wiek"
   ]
  },
  {
   "cell_type": "code",
   "execution_count": null,
   "id": "b023d1f4",
   "metadata": {},
   "outputs": [],
   "source": [
    "wiek_subset = np.abs(stats.zscore(df[\"wiek\"]))\n",
    "wiek_subset.plot(kind=\"hist\", bins=6, logy=True, title=\"Zscore dla wieku\");"
   ]
  },
  {
   "cell_type": "code",
   "execution_count": null,
   "id": "8afbb351",
   "metadata": {},
   "outputs": [],
   "source": [
    "threshold = 3\n",
    "df = df.iloc[np.where(wiek_subset <= threshold)[0]]"
   ]
  },
  {
   "cell_type": "markdown",
   "id": "5b5fca75",
   "metadata": {},
   "source": [
    "### dl_polaczenia"
   ]
  },
  {
   "cell_type": "code",
   "execution_count": null,
   "id": "09bc5428",
   "metadata": {},
   "outputs": [],
   "source": [
    "sns.histplot(data=df.dl_polaczenia)"
   ]
  },
  {
   "cell_type": "markdown",
   "id": "912cb5db-e48a-4dfa-860f-b2f0a478f4ee",
   "metadata": {},
   "source": [
    "#### Jakies spostrzezenia\n",
    "-\n",
    "-\n",
    "-"
   ]
  },
  {
   "cell_type": "code",
   "execution_count": null,
   "id": "61e1fa66",
   "metadata": {},
   "outputs": [],
   "source": [
    "df[(df.dl_polaczenia <= 0)]"
   ]
  },
  {
   "cell_type": "markdown",
   "id": "3a95e477-0310-45ea-9474-a14d5e3eb669",
   "metadata": {},
   "source": [
    "#### Nie nalezy porzucac tych obserwacji, gdyz sa naturalnym wynikiem rozlaczenia sie klienta z konsultantem"
   ]
  },
  {
   "cell_type": "code",
   "execution_count": null,
   "id": "f8c22956",
   "metadata": {},
   "outputs": [],
   "source": [
    "df = df[~(df.dl_polaczenia <= 0)]"
   ]
  },
  {
   "cell_type": "code",
   "execution_count": null,
   "id": "fd625f98",
   "metadata": {},
   "outputs": [],
   "source": [
    "subset = stats.boxcox(df[\"dl_polaczenia\"])[0]"
   ]
  },
  {
   "cell_type": "markdown",
   "id": "df32b2a2-5edf-416a-9bae-d832568ca9cb",
   "metadata": {},
   "source": [
    "#### Sprawdzamy, czy _dl\\_polaczenia_, po transformacji ma rozklad normalny."
   ]
  },
  {
   "cell_type": "code",
   "execution_count": null,
   "id": "81bd1f2d",
   "metadata": {},
   "outputs": [],
   "source": [
    "sns.histplot(data=subset);"
   ]
  },
  {
   "cell_type": "code",
   "execution_count": null,
   "id": "d2e6d136-0d47-4bfe-bf1a-679ad2657d85",
   "metadata": {},
   "outputs": [],
   "source": [
    "df[df.dl_polaczenia > 2000].target.value_counts()"
   ]
  },
  {
   "cell_type": "markdown",
   "id": "3ebd7d08-7cea-498c-8cf2-b1e44f0b9bf2",
   "metadata": {},
   "source": [
    "#### Dlugie rozmowy maja duze znaczenie dla modelu, bo mozna zauwazyc, ze im dluzsze sa rozmowy, tym wieksza szansa na to, ze osoba bedzie zainteresowana depozytem, wiec nie sa to tzw. wartosci odstajace."
   ]
  },
  {
   "cell_type": "markdown",
   "id": "23398ac0-7ed8-4fb5-81bb-8547cb3602a4",
   "metadata": {},
   "source": [
    "#### Kolumna _dl\\_polaczenia_ jest jedynie cecha pozwalajaca na walidacje modelu, wiec zostanie ona pominieta."
   ]
  },
  {
   "cell_type": "markdown",
   "id": "69113d98-bff3-473e-a7ca-6626f0a1ef7e",
   "metadata": {},
   "source": [
    "### liczba_polaczen_aktualnej_kampanii"
   ]
  },
  {
   "cell_type": "code",
   "execution_count": null,
   "id": "2f45dd35-db48-442e-aa0f-e6a92a41dda7",
   "metadata": {},
   "outputs": [],
   "source": [
    "pd.crosstab(index=df.liczba_polaczen_aktualnej_kampanii, columns=df.target).T"
   ]
  },
  {
   "cell_type": "markdown",
   "id": "77513ec1-0c77-4649-96f3-a506e5f904bb",
   "metadata": {},
   "source": [
    "#### Na podstawie powyzszego zestawienia moznaby pokusic sie o porzucenie obserwacji, gdzie _liczba\\_polaczen\\_aktualnej\\_kampanii_ przekracza wartosc 11, bo znaczaca wiekszosc takich obserwacji, sprowadza sie do nieudanej proby namowienia klienta do depozytu."
   ]
  },
  {
   "cell_type": "code",
   "execution_count": null,
   "id": "1a854109-0e1f-49bf-94a0-f521abdead74",
   "metadata": {},
   "outputs": [],
   "source": [
    "df = df[df.liczba_polaczen_aktualnej_kampanii <= 18]"
   ]
  },
  {
   "cell_type": "code",
   "execution_count": null,
   "id": "7013b3d4-9fad-4915-aff4-03c0c0866d06",
   "metadata": {},
   "outputs": [],
   "source": [
    "sns.countplot(\n",
    "    data=df[df.liczba_polaczen_aktualnej_kampanii < 20],\n",
    "    x=\"liczba_polaczen_aktualnej_kampanii\",\n",
    "    hue=\"target\",\n",
    ");"
   ]
  },
  {
   "cell_type": "markdown",
   "id": "b238c26c-448a-44c4-a24f-39273ac4bd18",
   "metadata": {},
   "source": [
    "### liczba_dni_od_ost_kontaktu"
   ]
  },
  {
   "cell_type": "code",
   "execution_count": null,
   "id": "645a986e-1496-45fc-9c85-818ffbb35281",
   "metadata": {},
   "outputs": [],
   "source": [
    "sns.countplot(data=df, x=\"liczba_dni_od_ost_kontaktu\", hue=\"target\")\n",
    "plt.yscale(\"log\")"
   ]
  },
  {
   "cell_type": "markdown",
   "id": "1c358f75-1aa8-4a8c-83a3-5b8f9142f07d",
   "metadata": {},
   "source": [
    "#### Jako ze jest to skala logarytmiczna, moze sie wydawac ze roznica miedzy iloscia ludzi, ktorzy zdecydowali sie na depozyt, a tymi ktorzy sie na to nie zdecydowali, jest minimalna, jednak w rzeczywistosci jest ona bardzo duza."
   ]
  },
  {
   "cell_type": "code",
   "execution_count": null,
   "id": "9eba173b-4a21-4c87-9007-7c3cc2ebda4b",
   "metadata": {},
   "outputs": [],
   "source": [
    "df[df.liczba_dni_od_ost_kontaktu == 999].target.value_counts()"
   ]
  },
  {
   "cell_type": "markdown",
   "id": "b4902554-481a-4afa-8cf7-4766a386ced3",
   "metadata": {},
   "source": [
    "### WAZNE! Zastanowic sie co zrobic z tymi 999, czy zamienic je na pd.NA? Tutaj 999 oznacza, ze po prostu nie bylo wczesniejszego kontaktu z klientem, w sensie nie kontaktowano sie z nim w ramach poprzedniej kampanii, oraz jest to pierwsza kampania, w ktorej sie z nim kontaktujemy."
   ]
  },
  {
   "cell_type": "markdown",
   "id": "8704d02c-0f19-43ce-b6c0-ab3c4b7bf32d",
   "metadata": {},
   "source": [
    "### liczba_polaczen_przed_aktualna_kampania"
   ]
  },
  {
   "cell_type": "code",
   "execution_count": null,
   "id": "9c790430-6cdc-4f0f-ae7c-5a6a2b6eb878",
   "metadata": {},
   "outputs": [],
   "source": [
    "ctab = pd.crosstab(df.target, df.liczba_polaczen_przed_aktualna_kampania).T\n",
    "ctab"
   ]
  },
  {
   "cell_type": "markdown",
   "id": "4e4b17cc-0fda-49b1-bc00-3ef0a6111183",
   "metadata": {},
   "source": [
    "#### Co ciekawe, im dokonano wiecej polaczen przed aktualna kampania, to wiekszy procent osob decydowal sie na depozyt."
   ]
  },
  {
   "cell_type": "code",
   "execution_count": null,
   "id": "1db39b0c-046f-4292-adc3-eb2ca981c693",
   "metadata": {},
   "outputs": [],
   "source": [
    "ctab[\"%\"] = ctab[1] / ctab.sum(axis=1)"
   ]
  },
  {
   "cell_type": "code",
   "execution_count": null,
   "id": "d4bbc188-da73-4044-9ceb-8f177ce300f6",
   "metadata": {},
   "outputs": [],
   "source": [
    "ctab"
   ]
  },
  {
   "cell_type": "code",
   "execution_count": null,
   "id": "5f6938c4-e3e7-4ce2-8a62-93d058b4cf56",
   "metadata": {},
   "outputs": [],
   "source": [
    "sns.countplot(data=df, x=df.liczba_polaczen_przed_aktualna_kampania, hue=\"target\")"
   ]
  },
  {
   "cell_type": "code",
   "execution_count": null,
   "id": "18e9cec2-2ba7-45c8-99a7-92588157cb2a",
   "metadata": {},
   "outputs": [],
   "source": [
    "df = df[df.liczba_polaczen_przed_aktualna_kampania <= 3]"
   ]
  },
  {
   "cell_type": "markdown",
   "id": "3eee7d41-fd4b-4a26-b32e-5aca077efcf9",
   "metadata": {},
   "source": [
    "### Wspolczynniki rynkowe"
   ]
  },
  {
   "cell_type": "code",
   "execution_count": null,
   "id": "f13f8a67-9a23-4347-b614-8d820f3a69c4",
   "metadata": {},
   "outputs": [],
   "source": [
    "wspolczynniki = (\n",
    "    \"wsk_zmien_zatrudnienia\",\n",
    "    \"wsk_cen_konsum\",\n",
    "    \"wsk_zauf_konsum\",\n",
    "    \"liczba_pracownikow\",\n",
    ")\n",
    "fig, axs = plt.subplots(len(wspolczynniki), figsize=(12, 24), dpi=200)\n",
    "\n",
    "for ind, wsp in enumerate(wspolczynniki):\n",
    "    sns.countplot(\n",
    "        data=df,\n",
    "        x=df[wsp],\n",
    "        ax=axs[ind],\n",
    "        hue=\"target\",\n",
    "        dodge=False,\n",
    "    )"
   ]
  },
  {
   "cell_type": "markdown",
   "id": "846d5398-c4f2-4570-b775-581d45ba298b",
   "metadata": {},
   "source": [
    "#### Jakies spostrzezenia\n",
    "-\n",
    "-\n",
    "-"
   ]
  },
  {
   "cell_type": "code",
   "execution_count": null,
   "id": "ad237d9f-1246-4e26-9ed0-f43be92d490e",
   "metadata": {},
   "outputs": [],
   "source": [
    "pd.crosstab([df.liczba_pracownikow, df.wsk_zmien_zatrudnienia], df.target)"
   ]
  },
  {
   "cell_type": "markdown",
   "id": "5727b9f6-c066-4b35-89e9-2017d1350925",
   "metadata": {},
   "source": [
    "#### euribor3m"
   ]
  },
  {
   "cell_type": "code",
   "execution_count": null,
   "id": "9565129e-afc7-45e5-af6d-af8a240dafcf",
   "metadata": {},
   "outputs": [],
   "source": [
    "sns.kdeplot(\n",
    "    data=df,\n",
    "    x=\"euribor3m\",\n",
    "    hue=\"target\",\n",
    ");"
   ]
  },
  {
   "cell_type": "markdown",
   "id": "93d834f4-93f7-4890-bd0c-8359cd613ee6",
   "metadata": {},
   "source": [
    "#### Jakies spostrzezenia\n",
    "-\n",
    "-\n",
    "-"
   ]
  },
  {
   "cell_type": "code",
   "execution_count": null,
   "id": "6ded6f95-c2cc-4708-bc0b-fccb669a04c0",
   "metadata": {},
   "outputs": [],
   "source": [
    "ctab = (\n",
    "    pd.crosstab(df.euribor3m, df.target)\n",
    "    .sort_values(by=[0, 1], ascending=False)\n",
    "    .head(100)\n",
    ")\n",
    "ctab[\"%\"] = ctab[1] / ctab.sum(axis=1) * 100"
   ]
  },
  {
   "cell_type": "code",
   "execution_count": null,
   "id": "da348c96-ac58-4d12-be8d-c64f8443a74e",
   "metadata": {},
   "outputs": [],
   "source": [
    "ctab"
   ]
  },
  {
   "cell_type": "code",
   "execution_count": null,
   "id": "59e7f2f0-58eb-46fb-a2a0-b3fdfcdca190",
   "metadata": {},
   "outputs": [],
   "source": [
    "ctab = (\n",
    "    pd.crosstab(df.euribor3m, df.target)\n",
    "    .sort_values(by=[1, 0], ascending=False)\n",
    "    .head(100)\n",
    ")\n",
    "ctab[\"%\"] = ctab[1] / ctab.sum(axis=1) * 100\n",
    "ctab = ctab.sort_values(by=\"%\", ascending=False)"
   ]
  },
  {
   "cell_type": "code",
   "execution_count": null,
   "id": "e81c8052-1b3b-4198-9e42-b7ddd2fa5ba9",
   "metadata": {},
   "outputs": [],
   "source": [
    "ctab"
   ]
  },
  {
   "cell_type": "code",
   "execution_count": null,
   "id": "9e76b3f4-0c4c-42be-89a4-c6fde1e99b50",
   "metadata": {},
   "outputs": [],
   "source": [
    "sns.scatterplot(data=ctab, x=ctab.index, y=\"%\")"
   ]
  },
  {
   "cell_type": "markdown",
   "id": "05c6cc76-3cef-4e08-895f-c4bb8801cfa1",
   "metadata": {},
   "source": [
    "#### Im nizsza stopa procentowa, tym wiekszy % osob chce dokonac depozytu."
   ]
  },
  {
   "cell_type": "markdown",
   "id": "f9cb8cf7-b909-404c-9115-4c59a928a102",
   "metadata": {},
   "source": [
    "## Dane kategoryczne"
   ]
  },
  {
   "cell_type": "markdown",
   "id": "7321d283-0a16-4e7d-925e-1f1ef36a962e",
   "metadata": {},
   "source": [
    "W tej czesci skupimy sie na obserwacjach o wartosciach _unknown_."
   ]
  },
  {
   "cell_type": "code",
   "execution_count": null,
   "id": "74d1897f-8ae7-48b0-a6db-d62441118b2e",
   "metadata": {},
   "outputs": [],
   "source": [
    "subset = df.select_dtypes(include=\"object\")"
   ]
  },
  {
   "cell_type": "code",
   "execution_count": null,
   "id": "95967f9e-dae9-4f2a-8b3b-eb627d6c4788",
   "metadata": {},
   "outputs": [],
   "source": [
    "fig, axs = plt.subplots(len(subset.columns) - 3, dpi=200, figsize=(12, 22))\n",
    "\n",
    "for ind, feature in enumerate(subset.columns):\n",
    "    if \"unknown\" in subset[feature].values:\n",
    "        sns.countplot(data=df, x=df[feature], hue=\"target\", ax=axs[ind], orient=\"h\")\n",
    "        axs[ind].bar_label(axs[ind].containers[0])\n",
    "        axs[ind].bar_label(axs[ind].containers[1])\n",
    "plt.subplots_adjust(hspace=0.7)"
   ]
  },
  {
   "cell_type": "markdown",
   "id": "e8867f82",
   "metadata": {},
   "source": [
    "#### Jakies spostrzezenia\n",
    "-\n",
    "-\n",
    "-"
   ]
  },
  {
   "cell_type": "markdown",
   "id": "ae30e7e4-eeff-430c-9e43-e5c98baac4ee",
   "metadata": {},
   "source": [
    "### Ma_pozyczke, ma_kredyt, kredyt_mieszkaniowy"
   ]
  },
  {
   "cell_type": "code",
   "execution_count": null,
   "id": "2397cb59-57c0-4377-934f-43d5f2b09c13",
   "metadata": {},
   "outputs": [],
   "source": [
    "df = df[~(df.ma_pozyczke == \"unknown\")]\n",
    "df = df[~(df.ma_kredyt == \"unknown\")]\n",
    "df = df[~(df.kredyt_mieszkaniowy == \"unknown\")]\n",
    "\n",
    "df.ma_kredyt = (df.ma_kredyt == \"no\") + 0\n",
    "df.ma_pozyczke = (df.ma_pozyczke == \"no\") + 0\n",
    "df.kredyt_mieszkaniowy = (df.kredyt_mieszkaniowy == \"no\") + 0"
   ]
  },
  {
   "cell_type": "code",
   "execution_count": null,
   "id": "67216438",
   "metadata": {},
   "outputs": [],
   "source": [
    "df.to_csv(\"data/cleaned.csv\")"
   ]
  }
 ],
 "metadata": {
  "kernelspec": {
   "display_name": "Python 3 (ipykernel)",
   "language": "python",
   "name": "python3"
  },
  "language_info": {
   "codemirror_mode": {
    "name": "ipython",
    "version": 3
   },
   "file_extension": ".py",
   "mimetype": "text/x-python",
   "name": "python",
   "nbconvert_exporter": "python",
   "pygments_lexer": "ipython3",
   "version": "3.9.13"
  }
 },
 "nbformat": 4,
 "nbformat_minor": 5
}
