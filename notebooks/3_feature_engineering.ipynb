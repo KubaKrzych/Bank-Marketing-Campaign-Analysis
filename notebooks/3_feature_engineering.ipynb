{
 "cells": [
  {
   "cell_type": "code",
   "execution_count": null,
   "id": "a9374cd4-f50d-40cf-bf25-b2e64c933cab",
   "metadata": {},
   "outputs": [],
   "source": [
    "import os\n",
    "import warnings\n",
    "\n",
    "warnings.filterwarnings(\"ignore\")\n",
    "\n",
    "import matplotlib.pyplot as plt\n",
    "import numpy as np\n",
    "import pandas as pd\n",
    "import seaborn as sns\n",
    "from scipy import stats\n",
    "from sklearn.neighbors import KNeighborsClassifier\n",
    "from sklearn.preprocessing import OneHotEncoder, OrdinalEncoder, StandardScaler\n",
    "from sklearn.pipeline import Pipeline"
   ]
  },
  {
   "cell_type": "code",
   "execution_count": null,
   "id": "8bb4956b-4dcb-42ed-be4e-5d81698a6d5e",
   "metadata": {},
   "outputs": [],
   "source": [
    "pd.set_option(\"display.max_columns\", None)\n",
    "pd.set_option(\"display.max_colwidth\", None)\n",
    "plt.rcParams[\"figure.figsize\"] = (8, 6)\n",
    "plt.rcParams[\"figure.dpi\"] = 100\n",
    "plt.style.use(\"bmh\")"
   ]
  },
  {
   "cell_type": "code",
   "execution_count": null,
   "id": "6aeb62e9-39fd-4f2f-a503-64b55d09e196",
   "metadata": {},
   "outputs": [],
   "source": [
    "os.chdir(\"..\")"
   ]
  },
  {
   "cell_type": "code",
   "execution_count": null,
   "id": "70954e46-d8fa-4e6b-b9f6-2fba02f653f9",
   "metadata": {},
   "outputs": [],
   "source": [
    "df = pd.read_csv(\"data/cleaned.csv\", index_col=0)\n",
    "df.reset_index(inplace=True, drop=True)"
   ]
  },
  {
   "cell_type": "code",
   "execution_count": null,
   "id": "356441f9-8ca5-472a-bf1b-5a8ab308a1a4",
   "metadata": {},
   "outputs": [],
   "source": [
    "df.head()"
   ]
  },
  {
   "cell_type": "markdown",
   "id": "8d0e0af6-b782-4be7-8e70-de98a901cad0",
   "metadata": {
    "tags": []
   },
   "source": [
    "# Enkodowanie"
   ]
  },
  {
   "cell_type": "markdown",
   "id": "d7e49f07-e263-413b-a4b0-23243d77676b",
   "metadata": {
    "tags": []
   },
   "source": [
    "## Cechy numeryczne"
   ]
  },
  {
   "cell_type": "markdown",
   "id": "ba6d5179-5e7f-4461-b42f-04a4aac0a32a",
   "metadata": {},
   "source": [
    "### Licza\\_dni\\_od\\_ost\\_kontaktu"
   ]
  },
  {
   "cell_type": "code",
   "execution_count": null,
   "id": "2e850f57-4a97-4a17-ac6b-f3241b3f4247",
   "metadata": {},
   "outputs": [],
   "source": [
    "ax = df.liczba_dni_od_ost_kontaktu.plot(kind='hist',bins=1000)\n",
    "ax.set_xlim(0,50)\n",
    "ax.set_yscale('log')"
   ]
  },
  {
   "cell_type": "code",
   "execution_count": null,
   "id": "27cb9d0c-78e2-4f6a-b4ed-7d057b20322f",
   "metadata": {},
   "outputs": [],
   "source": [
    "bins = [5,10,15,20,25,30,1000]"
   ]
  },
  {
   "cell_type": "code",
   "execution_count": null,
   "id": "7afd4bef-ec7f-4508-b3d1-0fd85b56734d",
   "metadata": {},
   "outputs": [],
   "source": [
    "df.liczba_dni_od_ost_kontaktu = np.digitize(df.liczba_dni_od_ost_kontaktu, bins)"
   ]
  },
  {
   "cell_type": "markdown",
   "id": "13480824-e652-4092-8afb-e1cdeeb690f4",
   "metadata": {},
   "source": [
    "### Wiek"
   ]
  },
  {
   "cell_type": "code",
   "execution_count": null,
   "id": "64bd66ca-2673-4a2c-843b-281adbad3f37",
   "metadata": {},
   "outputs": [],
   "source": [
    "ss = StandardScaler()"
   ]
  },
  {
   "cell_type": "code",
   "execution_count": null,
   "id": "bd9510cb-f288-421e-bad6-2cb9ea84bd48",
   "metadata": {},
   "outputs": [],
   "source": [
    "df.wiek.plot(kind='hist')"
   ]
  },
  {
   "cell_type": "code",
   "execution_count": null,
   "id": "9d6d8a2d-429c-4eee-8f9e-aaa103d51bae",
   "metadata": {},
   "outputs": [],
   "source": [
    "df.wiek = ss.fit_transform(np.asarray(df.wiek).reshape(-1,1))"
   ]
  },
  {
   "cell_type": "markdown",
   "id": "f98bf1bf-439b-439c-95a4-695398ce8e7c",
   "metadata": {},
   "source": [
    "## Dl\\_polaczenia"
   ]
  },
  {
   "cell_type": "code",
   "execution_count": null,
   "id": "f04eebf2-85b0-4c7f-bad7-ea5dad45124d",
   "metadata": {},
   "outputs": [],
   "source": [
    "df.dl_polaczenia.plot(kind='hist')"
   ]
  },
  {
   "cell_type": "code",
   "execution_count": null,
   "id": "36637768-10e8-4fd9-aa31-1e977924c5d2",
   "metadata": {},
   "outputs": [],
   "source": [
    "df.dl_polaczenia = ss.fit_transform(np.asarray(df.dl_polaczenia).reshape(-1,1))"
   ]
  },
  {
   "cell_type": "markdown",
   "id": "5e39c00b-f0cd-4c69-8870-b79741bacd82",
   "metadata": {},
   "source": [
    "## Cechy cykliczne"
   ]
  },
  {
   "cell_type": "code",
   "execution_count": null,
   "id": "170504ea-fdc6-4a70-bd95-7d61e67aef2c",
   "metadata": {},
   "outputs": [],
   "source": [
    "miesiace = {\n",
    "    \"mar\": 3,\n",
    "    \"apr\": 4,\n",
    "    \"may\": 5,\n",
    "    \"jun\": 6,\n",
    "    \"jul\": 7,\n",
    "    \"aug\": 8,\n",
    "    \"sep\": 9,\n",
    "    \"oct\": 10,\n",
    "    \"nov\": 11,\n",
    "    \"dec\": 12,\n",
    "}\n",
    "df.miesiac = df.miesiac.map(miesiace) / 12 * np.pi\n",
    "df.miesiac = np.sin(df.miesiac) * np.cos(df.miesiac)"
   ]
  },
  {
   "cell_type": "markdown",
   "id": "1c24c4a1-c4d5-41e9-9305-53976e4874f8",
   "metadata": {},
   "source": [
    "## Cechy kategoryczne (z pominieciem _wyksztalcenie_ i _zawod_, gdyz te beda poddane procesowi _feature enginnering_)"
   ]
  },
  {
   "cell_type": "code",
   "execution_count": null,
   "id": "13d22d90-03ab-4e0d-b7c1-7241db36bf6d",
   "metadata": {},
   "outputs": [],
   "source": [
    "def pred_categorical_with_knn(df: pd.DataFrame, attrib: str, neighbours=3) -> None:\n",
    "    model = KNeighborsClassifier(n_neighbors=3)\n",
    "    X_train = df[~(df[attrib] == \"unknown\")]\n",
    "    y_train = X_train[attrib]\n",
    "    X_train = X_train.drop(attrib, axis=1)\n",
    "\n",
    "    X_pred = df[df[attrib] == \"unknown\"]\n",
    "    y_pred = X_pred[attrib]\n",
    "    X_pred = X_pred.drop(attrib, axis=1)\n",
    "\n",
    "    model.fit(X_train, y_train)\n",
    "    df.loc[X_pred.index, attrib] = model.predict(X_pred)"
   ]
  },
  {
   "cell_type": "code",
   "execution_count": null,
   "id": "d7afe19e",
   "metadata": {},
   "outputs": [],
   "source": [
    "df[\"aktywnie_pracujacy\"] = ~df.zawod.isin([\"student\", \"unemployed\", \"retired\"]) + 0"
   ]
  },
  {
   "cell_type": "code",
   "execution_count": null,
   "id": "e0b6f986",
   "metadata": {},
   "outputs": [],
   "source": [
    "subset = df.select_dtypes(include=\"object\")\n",
    "subset = subset[subset.columns.difference([\"wyksztalcenie\"])]\n",
    "\n",
    "zawod_array = df.zawod"
   ]
  },
  {
   "cell_type": "code",
   "execution_count": null,
   "id": "206499e7-cd20-43b2-af2d-8f2112f77482",
   "metadata": {},
   "outputs": [],
   "source": [
    "encoder = OneHotEncoder()\n",
    "encoded_df = encoder.fit_transform(subset).toarray()\n",
    "encoded_df = pd.DataFrame(encoded_df, columns=encoder.get_feature_names_out())\n",
    "encoded_df = encoded_df.drop(\"sposob_kontaktu_cellular\", axis=1)\n",
    "\n",
    "df = df.join(encoded_df)\n",
    "df = df.drop(subset.columns, axis=1)"
   ]
  },
  {
   "cell_type": "markdown",
   "id": "462227c2-6be0-4417-8d8e-64aca09680cb",
   "metadata": {},
   "source": [
    "### Wyksztalcenie (zamiana wartosci _unknown_, przy pomocy algorytmu __KNN__)"
   ]
  },
  {
   "cell_type": "code",
   "execution_count": null,
   "id": "b38b903f",
   "metadata": {},
   "outputs": [],
   "source": [
    "attrib = \"wyksztalcenie\""
   ]
  },
  {
   "cell_type": "code",
   "execution_count": null,
   "id": "c6c897bf-9fbc-4cbc-bee1-9c5147189bd5",
   "metadata": {},
   "outputs": [],
   "source": [
    "pred_categorical_with_knn(df, attrib, 3)"
   ]
  },
  {
   "cell_type": "code",
   "execution_count": null,
   "id": "8d296160",
   "metadata": {},
   "outputs": [],
   "source": [
    "df.wyksztalcenie.value_counts()"
   ]
  },
  {
   "cell_type": "code",
   "execution_count": null,
   "id": "91b8d11d",
   "metadata": {},
   "outputs": [],
   "source": [
    "map_wyksztalcenie_do_liczby = {\n",
    "    \"illiterate\": 0,\n",
    "    \"basic.4y\": 1,\n",
    "    \"basic.6y\": 2,\n",
    "    \"basic.9y\": 3,\n",
    "    \"high.school\": 4,\n",
    "    \"professional.course\": 5,\n",
    "    \"university.degree\": 6,\n",
    "}"
   ]
  },
  {
   "cell_type": "code",
   "execution_count": null,
   "id": "cd70a017",
   "metadata": {},
   "outputs": [],
   "source": [
    "df.wyksztalcenie = df.wyksztalcenie.map(map_wyksztalcenie_do_liczby)"
   ]
  },
  {
   "cell_type": "markdown",
   "id": "3754b0f8-7dfc-4316-948a-34e65db464d8",
   "metadata": {},
   "source": [
    "### Zawod"
   ]
  },
  {
   "cell_type": "code",
   "execution_count": null,
   "id": "bf5b6027",
   "metadata": {},
   "outputs": [],
   "source": [
    "attrib = \"zawod\""
   ]
  },
  {
   "cell_type": "code",
   "execution_count": null,
   "id": "57f6eadf-7bf5-4ded-97b5-ca8d8fc0c846",
   "metadata": {
    "tags": []
   },
   "outputs": [],
   "source": [
    "subset = df.columns.str.startswith('zawod')\n",
    "df = df.iloc[:, ~subset]\n",
    "df[attrib] = zawod_array"
   ]
  },
  {
   "cell_type": "code",
   "execution_count": null,
   "id": "b6691d17-77bf-4bfd-8799-4806dc88b83b",
   "metadata": {},
   "outputs": [],
   "source": [
    "pred_categorical_with_knn(df, attrib)"
   ]
  },
  {
   "cell_type": "code",
   "execution_count": null,
   "id": "8b0360fd",
   "metadata": {},
   "outputs": [],
   "source": [
    "df.zawod.value_counts()"
   ]
  },
  {
   "cell_type": "code",
   "execution_count": null,
   "id": "b4de694f-81bc-4a85-9039-5f7f18e3306b",
   "metadata": {},
   "outputs": [],
   "source": [
    "attrib = 'zawod'\n",
    "df = df.drop(attrib, axis=1).join(pd.get_dummies(df.zawod))"
   ]
  }
 ],
 "metadata": {
  "kernelspec": {
   "display_name": "Python 3 (ipykernel)",
   "language": "python",
   "name": "python3"
  },
  "language_info": {
   "codemirror_mode": {
    "name": "ipython",
    "version": 3
   },
   "file_extension": ".py",
   "mimetype": "text/x-python",
   "name": "python",
   "nbconvert_exporter": "python",
   "pygments_lexer": "ipython3",
   "version": "3.9.13"
  }
 },
 "nbformat": 4,
 "nbformat_minor": 5
}
