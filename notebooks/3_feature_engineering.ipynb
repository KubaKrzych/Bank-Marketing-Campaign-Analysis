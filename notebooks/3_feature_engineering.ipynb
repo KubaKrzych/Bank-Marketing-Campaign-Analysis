{
 "cells": [
  {
   "cell_type": "code",
   "execution_count": 1,
   "id": "a9374cd4-f50d-40cf-bf25-b2e64c933cab",
   "metadata": {},
   "outputs": [],
   "source": [
    "import os\n",
    "import warnings\n",
    "\n",
    "warnings.filterwarnings(\"ignore\")\n",
    "\n",
    "import matplotlib.pyplot as plt\n",
    "import numpy as np\n",
    "import pandas as pd\n",
    "import seaborn as sns\n",
    "from pandas_profiling import ProfileReport\n",
    "from scipy import stats\n",
    "from sklearn.neighbors import KNeighborsClassifier\n",
    "from sklearn.preprocessing import (\n",
    "    Normalizer,\n",
    "    OneHotEncoder,\n",
    "    OrdinalEncoder,\n",
    "    StandardScaler,\n",
    ")"
   ]
  },
  {
   "cell_type": "code",
   "execution_count": 2,
   "id": "8bb4956b-4dcb-42ed-be4e-5d81698a6d5e",
   "metadata": {},
   "outputs": [],
   "source": [
    "pd.set_option(\"display.max_columns\", None)\n",
    "pd.set_option(\"display.max_colwidth\", None)\n",
    "plt.rcParams[\"figure.figsize\"] = (8, 6)\n",
    "plt.rcParams[\"figure.dpi\"] = 100\n",
    "plt.style.use(\"bmh\")"
   ]
  },
  {
   "cell_type": "code",
   "execution_count": 3,
   "id": "6aeb62e9-39fd-4f2f-a503-64b55d09e196",
   "metadata": {},
   "outputs": [],
   "source": [
    "os.chdir(\"..\")"
   ]
  },
  {
   "cell_type": "code",
   "execution_count": 4,
   "id": "70954e46-d8fa-4e6b-b9f6-2fba02f653f9",
   "metadata": {},
   "outputs": [],
   "source": [
    "df = pd.read_csv(\"data/cleaned.csv\", index_col=0)\n",
    "df.reset_index(inplace=True, drop=True)"
   ]
  },
  {
   "cell_type": "code",
   "execution_count": 5,
   "id": "356441f9-8ca5-472a-bf1b-5a8ab308a1a4",
   "metadata": {},
   "outputs": [
    {
     "data": {
      "text/html": [
       "<div>\n",
       "<style scoped>\n",
       "    .dataframe tbody tr th:only-of-type {\n",
       "        vertical-align: middle;\n",
       "    }\n",
       "\n",
       "    .dataframe tbody tr th {\n",
       "        vertical-align: top;\n",
       "    }\n",
       "\n",
       "    .dataframe thead th {\n",
       "        text-align: right;\n",
       "    }\n",
       "</style>\n",
       "<table border=\"1\" class=\"dataframe\">\n",
       "  <thead>\n",
       "    <tr style=\"text-align: right;\">\n",
       "      <th></th>\n",
       "      <th>wiek</th>\n",
       "      <th>zawod</th>\n",
       "      <th>stan_cywilny</th>\n",
       "      <th>wyksztalcenie</th>\n",
       "      <th>ma_kredyt</th>\n",
       "      <th>kredyt_mieszkaniowy</th>\n",
       "      <th>ma_pozyczke</th>\n",
       "      <th>sposob_kontaktu</th>\n",
       "      <th>miesiac</th>\n",
       "      <th>day_of_week</th>\n",
       "      <th>dl_polaczenia</th>\n",
       "      <th>liczba_polaczen_aktualnej_kampanii</th>\n",
       "      <th>liczba_dni_od_ost_kontaktu</th>\n",
       "      <th>liczba_polaczen_przed_aktualna_kampania</th>\n",
       "      <th>wynik_poprzedniej_kampanii</th>\n",
       "      <th>wsk_zmien_zatrudnienia</th>\n",
       "      <th>wsk_cen_konsum</th>\n",
       "      <th>wsk_zauf_konsum</th>\n",
       "      <th>euribor3m</th>\n",
       "      <th>liczba_pracownikow</th>\n",
       "      <th>target</th>\n",
       "    </tr>\n",
       "  </thead>\n",
       "  <tbody>\n",
       "    <tr>\n",
       "      <th>0</th>\n",
       "      <td>56</td>\n",
       "      <td>housemaid</td>\n",
       "      <td>married</td>\n",
       "      <td>basic.4y</td>\n",
       "      <td>1</td>\n",
       "      <td>1</td>\n",
       "      <td>1</td>\n",
       "      <td>telephone</td>\n",
       "      <td>may</td>\n",
       "      <td>mon</td>\n",
       "      <td>261</td>\n",
       "      <td>1</td>\n",
       "      <td>999</td>\n",
       "      <td>0</td>\n",
       "      <td>nonexistent</td>\n",
       "      <td>1.1</td>\n",
       "      <td>93.994</td>\n",
       "      <td>-36.4</td>\n",
       "      <td>4.857</td>\n",
       "      <td>5191.0</td>\n",
       "      <td>0</td>\n",
       "    </tr>\n",
       "    <tr>\n",
       "      <th>1</th>\n",
       "      <td>37</td>\n",
       "      <td>services</td>\n",
       "      <td>married</td>\n",
       "      <td>high.school</td>\n",
       "      <td>1</td>\n",
       "      <td>0</td>\n",
       "      <td>1</td>\n",
       "      <td>telephone</td>\n",
       "      <td>may</td>\n",
       "      <td>mon</td>\n",
       "      <td>226</td>\n",
       "      <td>1</td>\n",
       "      <td>999</td>\n",
       "      <td>0</td>\n",
       "      <td>nonexistent</td>\n",
       "      <td>1.1</td>\n",
       "      <td>93.994</td>\n",
       "      <td>-36.4</td>\n",
       "      <td>4.857</td>\n",
       "      <td>5191.0</td>\n",
       "      <td>0</td>\n",
       "    </tr>\n",
       "    <tr>\n",
       "      <th>2</th>\n",
       "      <td>40</td>\n",
       "      <td>admin.</td>\n",
       "      <td>married</td>\n",
       "      <td>basic.6y</td>\n",
       "      <td>1</td>\n",
       "      <td>1</td>\n",
       "      <td>1</td>\n",
       "      <td>telephone</td>\n",
       "      <td>may</td>\n",
       "      <td>mon</td>\n",
       "      <td>151</td>\n",
       "      <td>1</td>\n",
       "      <td>999</td>\n",
       "      <td>0</td>\n",
       "      <td>nonexistent</td>\n",
       "      <td>1.1</td>\n",
       "      <td>93.994</td>\n",
       "      <td>-36.4</td>\n",
       "      <td>4.857</td>\n",
       "      <td>5191.0</td>\n",
       "      <td>0</td>\n",
       "    </tr>\n",
       "    <tr>\n",
       "      <th>3</th>\n",
       "      <td>56</td>\n",
       "      <td>services</td>\n",
       "      <td>married</td>\n",
       "      <td>high.school</td>\n",
       "      <td>1</td>\n",
       "      <td>1</td>\n",
       "      <td>0</td>\n",
       "      <td>telephone</td>\n",
       "      <td>may</td>\n",
       "      <td>mon</td>\n",
       "      <td>307</td>\n",
       "      <td>1</td>\n",
       "      <td>999</td>\n",
       "      <td>0</td>\n",
       "      <td>nonexistent</td>\n",
       "      <td>1.1</td>\n",
       "      <td>93.994</td>\n",
       "      <td>-36.4</td>\n",
       "      <td>4.857</td>\n",
       "      <td>5191.0</td>\n",
       "      <td>0</td>\n",
       "    </tr>\n",
       "    <tr>\n",
       "      <th>4</th>\n",
       "      <td>59</td>\n",
       "      <td>admin.</td>\n",
       "      <td>married</td>\n",
       "      <td>professional.course</td>\n",
       "      <td>1</td>\n",
       "      <td>1</td>\n",
       "      <td>1</td>\n",
       "      <td>telephone</td>\n",
       "      <td>may</td>\n",
       "      <td>mon</td>\n",
       "      <td>139</td>\n",
       "      <td>1</td>\n",
       "      <td>999</td>\n",
       "      <td>0</td>\n",
       "      <td>nonexistent</td>\n",
       "      <td>1.1</td>\n",
       "      <td>93.994</td>\n",
       "      <td>-36.4</td>\n",
       "      <td>4.857</td>\n",
       "      <td>5191.0</td>\n",
       "      <td>0</td>\n",
       "    </tr>\n",
       "  </tbody>\n",
       "</table>\n",
       "</div>"
      ],
      "text/plain": [
       "   wiek      zawod stan_cywilny        wyksztalcenie  ma_kredyt  \\\n",
       "0    56  housemaid      married             basic.4y          1   \n",
       "1    37   services      married          high.school          1   \n",
       "2    40     admin.      married             basic.6y          1   \n",
       "3    56   services      married          high.school          1   \n",
       "4    59     admin.      married  professional.course          1   \n",
       "\n",
       "   kredyt_mieszkaniowy  ma_pozyczke sposob_kontaktu miesiac day_of_week  \\\n",
       "0                    1            1       telephone     may         mon   \n",
       "1                    0            1       telephone     may         mon   \n",
       "2                    1            1       telephone     may         mon   \n",
       "3                    1            0       telephone     may         mon   \n",
       "4                    1            1       telephone     may         mon   \n",
       "\n",
       "   dl_polaczenia  liczba_polaczen_aktualnej_kampanii  \\\n",
       "0            261                                   1   \n",
       "1            226                                   1   \n",
       "2            151                                   1   \n",
       "3            307                                   1   \n",
       "4            139                                   1   \n",
       "\n",
       "   liczba_dni_od_ost_kontaktu  liczba_polaczen_przed_aktualna_kampania  \\\n",
       "0                         999                                        0   \n",
       "1                         999                                        0   \n",
       "2                         999                                        0   \n",
       "3                         999                                        0   \n",
       "4                         999                                        0   \n",
       "\n",
       "  wynik_poprzedniej_kampanii  wsk_zmien_zatrudnienia  wsk_cen_konsum  \\\n",
       "0                nonexistent                     1.1          93.994   \n",
       "1                nonexistent                     1.1          93.994   \n",
       "2                nonexistent                     1.1          93.994   \n",
       "3                nonexistent                     1.1          93.994   \n",
       "4                nonexistent                     1.1          93.994   \n",
       "\n",
       "   wsk_zauf_konsum  euribor3m  liczba_pracownikow  target  \n",
       "0            -36.4      4.857              5191.0       0  \n",
       "1            -36.4      4.857              5191.0       0  \n",
       "2            -36.4      4.857              5191.0       0  \n",
       "3            -36.4      4.857              5191.0       0  \n",
       "4            -36.4      4.857              5191.0       0  "
      ]
     },
     "execution_count": 5,
     "metadata": {},
     "output_type": "execute_result"
    }
   ],
   "source": [
    "df.head()"
   ]
  },
  {
   "cell_type": "markdown",
   "id": "8d0e0af6-b782-4be7-8e70-de98a901cad0",
   "metadata": {
    "tags": []
   },
   "source": [
    "# Enkodowanie, standaryzacja"
   ]
  },
  {
   "cell_type": "markdown",
   "id": "d7e49f07-e263-413b-a4b0-23243d77676b",
   "metadata": {
    "tags": []
   },
   "source": [
    "## Cechy numeryczne"
   ]
  },
  {
   "cell_type": "markdown",
   "id": "ba6d5179-5e7f-4461-b42f-04a4aac0a32a",
   "metadata": {},
   "source": [
    "### Licza\\_dni\\_od\\_ost\\_kontaktu"
   ]
  },
  {
   "cell_type": "code",
   "execution_count": 6,
   "id": "27cb9d0c-78e2-4f6a-b4ed-7d057b20322f",
   "metadata": {},
   "outputs": [],
   "source": [
    "bins = [5, 10, 15, 20, 25, 30, 1000]"
   ]
  },
  {
   "cell_type": "code",
   "execution_count": 7,
   "id": "7afd4bef-ec7f-4508-b3d1-0fd85b56734d",
   "metadata": {},
   "outputs": [],
   "source": [
    "df.liczba_dni_od_ost_kontaktu = np.digitize(df.liczba_dni_od_ost_kontaktu, bins)"
   ]
  },
  {
   "cell_type": "markdown",
   "id": "0ed11824",
   "metadata": {},
   "source": [
    "##### Wyjaśnienie\n",
    "Zamieniamy liczbe dni od ostatniego kontaktu na zakresy w, których te kontakty się odbywały"
   ]
  },
  {
   "cell_type": "markdown",
   "id": "13480824-e652-4092-8afb-e1cdeeb690f4",
   "metadata": {},
   "source": [
    "### Wiek"
   ]
  },
  {
   "cell_type": "code",
   "execution_count": 8,
   "id": "64bd66ca-2673-4a2c-843b-281adbad3f37",
   "metadata": {},
   "outputs": [],
   "source": [
    "ss = StandardScaler()"
   ]
  },
  {
   "cell_type": "code",
   "execution_count": 9,
   "id": "148bbf21-7817-419f-bc53-dbb4186d927b",
   "metadata": {},
   "outputs": [
    {
     "data": {
      "text/plain": [
       "['euribor3m',\n",
       " 'wiek',\n",
       " 'liczba_pracownikow',\n",
       " 'wsk_zmien_zatrudnienia',\n",
       " 'wsk_cen_konsum',\n",
       " 'wsk_zauf_konsum']"
      ]
     },
     "execution_count": 9,
     "metadata": {},
     "output_type": "execute_result"
    }
   ],
   "source": [
    "subset = [\"euribor3m\", \"wiek\", \"liczba_pracownikow\"]\n",
    "subset.extend(df.columns[df.columns.str.startswith(\"wsk\")])\n",
    "subset"
   ]
  },
  {
   "cell_type": "code",
   "execution_count": 10,
   "id": "4e55093e-4ef3-49f0-8b19-1864f1dbe80c",
   "metadata": {},
   "outputs": [
    {
     "data": {
      "image/png": "[encoded data removed]",
      "text/plain": [
       "<Figure size 800x1400 with 6 Axes>"
      ]
     },
     "metadata": {},
     "output_type": "display_data"
    }
   ],
   "source": [
    "fig, axs = plt.subplots(len(subset), 1, figsize=(8, 14))\n",
    "\n",
    "\n",
    "for ind, feature in enumerate(subset):\n",
    "    df[feature].plot(kind=\"hist\", ax=axs[ind], title=feature)\n",
    "\n",
    "plt.subplots_adjust(hspace=0.3)"
   ]
  },
  {
   "cell_type": "code",
   "execution_count": 11,
   "id": "ce455f49-00bb-4cd6-b24b-d650a3c3a22a",
   "metadata": {},
   "outputs": [],
   "source": [
    "df.liczba_pracownikow = np.log(df.liczba_pracownikow)\n",
    "df.wsk_zauf_konsum = ss.fit_transform(np.asarray(df.wsk_zauf_konsum).reshape(-1, 1))\n",
    "df.wsk_cen_konsum = ss.fit_transform(np.asarray(df.wsk_cen_konsum).reshape(-1, 1))\n",
    "df.wsk_zmien_zatrudnienia = np.log(df.wsk_zmien_zatrudnienia + 10)\n",
    "df.wiek = ss.fit_transform(np.asarray(df.wiek).reshape(-1, 1))"
   ]
  },
  {
   "cell_type": "markdown",
   "id": "524e19cf-dd9d-4108-b06f-d45ad4271a7c",
   "metadata": {},
   "source": [
    "##### Wyjasnienie\n",
    "Używamy transformaty logarytmicznej dla zmiennych, które posiadają rozkład nie gaussowski, zaś standaryzacji wartości dla zmiennych o rozkładzie normalnym"
   ]
  },
  {
   "cell_type": "markdown",
   "id": "5e39c00b-f0cd-4c69-8870-b79741bacd82",
   "metadata": {},
   "source": [
    "## Cechy cykliczne"
   ]
  },
  {
   "cell_type": "code",
   "execution_count": 12,
   "id": "170504ea-fdc6-4a70-bd95-7d61e67aef2c",
   "metadata": {},
   "outputs": [],
   "source": [
    "miesiace = {\n",
    "    \"mar\": 3,\n",
    "    \"apr\": 4,\n",
    "    \"may\": 5,\n",
    "    \"jun\": 6,\n",
    "    \"jul\": 7,\n",
    "    \"aug\": 8,\n",
    "    \"sep\": 9,\n",
    "    \"oct\": 10,\n",
    "    \"nov\": 11,\n",
    "    \"dec\": 12,\n",
    "}\n",
    "df.miesiac = df.miesiac.map(miesiace) / 12 * np.pi\n",
    "df.miesiac = np.sin(df.miesiac) * np.cos(df.miesiac)"
   ]
  },
  {
   "cell_type": "markdown",
   "id": "e9066b1b-5437-4dc1-9d8a-b0a9f729b660",
   "metadata": {},
   "source": [
    "##### Wyjaśnienie \n",
    "Musimy dokonać takiej transformacji ponieważ miesiące są cykliczne, nie możemy powiedzieć, że styczeń jest mniejszy od grudnia. Dlatego musimy dokonać transformacji sinusoidowej, dzięki model nie będzie uważał późniejszych miesięcy za coś większego"
   ]
  },
  {
   "cell_type": "markdown",
   "id": "1c24c4a1-c4d5-41e9-9305-53976e4874f8",
   "metadata": {},
   "source": [
    "## Cechy kategoryczne (z pominieciem _wyksztalcenie_ i _zawod_, gdyz te beda poddane procesowi _feature enginnering_)"
   ]
  },
  {
   "cell_type": "code",
   "execution_count": 13,
   "id": "13d22d90-03ab-4e0d-b7c1-7241db36bf6d",
   "metadata": {},
   "outputs": [],
   "source": [
    "def pred_categorical_with_knn(df: pd.DataFrame, attrib: str, neighbours=3) -> None:\n",
    "    model = KNeighborsClassifier(n_neighbors=3)\n",
    "    X_train = df[~(df[attrib] == \"unknown\")]\n",
    "    y_train = X_train[attrib]\n",
    "    X_train = X_train.drop(attrib, axis=1)\n",
    "\n",
    "    X_pred = df[df[attrib] == \"unknown\"]\n",
    "    y_pred = X_pred[attrib]\n",
    "    X_pred = X_pred.drop(attrib, axis=1)\n",
    "\n",
    "    model.fit(X_train, y_train)\n",
    "    df.loc[X_pred.index, attrib] = model.predict(X_pred)"
   ]
  },
  {
   "cell_type": "code",
   "execution_count": 14,
   "id": "d7afe19e",
   "metadata": {},
   "outputs": [],
   "source": [
    "df[\"aktywnie_pracujacy\"] = ~df.zawod.isin([\"student\", \"unemployed\", \"retired\"]) + 0"
   ]
  },
  {
   "cell_type": "code",
   "execution_count": 15,
   "id": "e0b6f986",
   "metadata": {},
   "outputs": [],
   "source": [
    "subset = df.select_dtypes(include=\"object\")\n",
    "subset = subset[subset.columns.difference([\"wyksztalcenie\"])]\n",
    "\n",
    "zawod_array = df.zawod"
   ]
  },
  {
   "cell_type": "code",
   "execution_count": 16,
   "id": "206499e7-cd20-43b2-af2d-8f2112f77482",
   "metadata": {},
   "outputs": [],
   "source": [
    "encoder = OneHotEncoder()\n",
    "encoded_df = encoder.fit_transform(subset).toarray()\n",
    "encoded_df = pd.DataFrame(encoded_df, columns=encoder.get_feature_names_out())\n",
    "encoded_df = encoded_df.drop(\"sposob_kontaktu_cellular\", axis=1)\n",
    "\n",
    "df = df.join(encoded_df)\n",
    "df = df.drop(subset.columns, axis=1)"
   ]
  },
  {
   "cell_type": "markdown",
   "id": "462227c2-6be0-4417-8d8e-64aca09680cb",
   "metadata": {},
   "source": [
    "### Wyksztalcenie (zamiana wartosci _unknown_, przy pomocy algorytmu __KNN__)"
   ]
  },
  {
   "cell_type": "code",
   "execution_count": 17,
   "id": "b38b903f",
   "metadata": {},
   "outputs": [],
   "source": [
    "attrib = \"wyksztalcenie\""
   ]
  },
  {
   "cell_type": "code",
   "execution_count": 18,
   "id": "c6c897bf-9fbc-4cbc-bee1-9c5147189bd5",
   "metadata": {},
   "outputs": [],
   "source": [
    "pred_categorical_with_knn(df, attrib, 3)"
   ]
  },
  {
   "cell_type": "code",
   "execution_count": 19,
   "id": "8d296160",
   "metadata": {},
   "outputs": [
    {
     "data": {
      "text/plain": [
       "university.degree      10658\n",
       "high.school             7864\n",
       "basic.9y                4484\n",
       "professional.course     4328\n",
       "basic.4y                2415\n",
       "basic.6y                1492\n",
       "illiterate                11\n",
       "Name: wyksztalcenie, dtype: int64"
      ]
     },
     "execution_count": 19,
     "metadata": {},
     "output_type": "execute_result"
    }
   ],
   "source": [
    "df.wyksztalcenie.value_counts()"
   ]
  },
  {
   "cell_type": "code",
   "execution_count": 20,
   "id": "91b8d11d",
   "metadata": {},
   "outputs": [],
   "source": [
    "map_wyksztalcenie_do_liczby = {\n",
    "    \"illiterate\": 0,\n",
    "    \"basic.4y\": 1,\n",
    "    \"basic.6y\": 2,\n",
    "    \"basic.9y\": 3,\n",
    "    \"high.school\": 4,\n",
    "    \"professional.course\": 5,\n",
    "    \"university.degree\": 6,\n",
    "}"
   ]
  },
  {
   "cell_type": "code",
   "execution_count": null,
   "id": "46e3dec5",
   "metadata": {},
   "outputs": [],
   "source": []
  },
  {
   "cell_type": "code",
   "execution_count": 21,
   "id": "cd70a017",
   "metadata": {},
   "outputs": [],
   "source": [
    "df.wyksztalcenie = df.wyksztalcenie.map(map_wyksztalcenie_do_liczby)"
   ]
  },
  {
   "cell_type": "markdown",
   "id": "1461283b",
   "metadata": {},
   "source": [
    "##### Wyjaśnienie\n",
    "Wykształcenie jest atrybutem kategorycznym porządkowym, mapujemy go więc na liczby, które potem będziemy mogli łatwo porównywać"
   ]
  },
  {
   "cell_type": "markdown",
   "id": "3754b0f8-7dfc-4316-948a-34e65db464d8",
   "metadata": {},
   "source": [
    "### Zawod"
   ]
  },
  {
   "cell_type": "code",
   "execution_count": 22,
   "id": "bf5b6027",
   "metadata": {},
   "outputs": [],
   "source": [
    "attrib = \"zawod\""
   ]
  },
  {
   "cell_type": "code",
   "execution_count": 23,
   "id": "57f6eadf-7bf5-4ded-97b5-ca8d8fc0c846",
   "metadata": {
    "tags": []
   },
   "outputs": [],
   "source": [
    "subset = df.columns.str.startswith(\"zawod\")\n",
    "df = df.iloc[:, ~subset]\n",
    "df[attrib] = zawod_array"
   ]
  },
  {
   "cell_type": "code",
   "execution_count": 24,
   "id": "b6691d17-77bf-4bfd-8799-4806dc88b83b",
   "metadata": {},
   "outputs": [],
   "source": [
    "pred_categorical_with_knn(df, attrib)"
   ]
  },
  {
   "cell_type": "code",
   "execution_count": 25,
   "id": "8b0360fd",
   "metadata": {},
   "outputs": [
    {
     "data": {
      "text/plain": [
       "admin.           8943\n",
       "blue-collar      5954\n",
       "technician       5604\n",
       "services         2961\n",
       "management       2393\n",
       "entrepreneur     1119\n",
       "self-employed    1101\n",
       "retired           978\n",
       "unemployed        754\n",
       "student           734\n",
       "housemaid         711\n",
       "Name: zawod, dtype: int64"
      ]
     },
     "execution_count": 25,
     "metadata": {},
     "output_type": "execute_result"
    }
   ],
   "source": [
    "df.zawod.value_counts()"
   ]
  },
  {
   "cell_type": "code",
   "execution_count": 26,
   "id": "b4de694f-81bc-4a85-9039-5f7f18e3306b",
   "metadata": {},
   "outputs": [],
   "source": [
    "attrib = \"zawod\"\n",
    "df = df.drop(attrib, axis=1).join(pd.get_dummies(df.zawod))"
   ]
  },
  {
   "cell_type": "markdown",
   "id": "fcdd9f2b",
   "metadata": {},
   "source": [
    "##### Wyjasnienie\n",
    "Do modelu potrzebujemy nie mieć żadnych danych tekstowych w tabeli, więc trzeba przemapować kolumne zawód na dodatkowe kolumny unikatowych wartości zatrudnienia w których będzie wpisane 0 jeżeli nie pracuje w tym zawodzie i 1 jeżeli dany klient pracuje w tym zawodzie"
   ]
  },
  {
   "cell_type": "code",
   "execution_count": 27,
   "id": "66b52b84-ea5f-4038-b931-158c422da25a",
   "metadata": {},
   "outputs": [
    {
     "data": {
      "text/html": [
       "<div>\n",
       "<style scoped>\n",
       "    .dataframe tbody tr th:only-of-type {\n",
       "        vertical-align: middle;\n",
       "    }\n",
       "\n",
       "    .dataframe tbody tr th {\n",
       "        vertical-align: top;\n",
       "    }\n",
       "\n",
       "    .dataframe thead th {\n",
       "        text-align: right;\n",
       "    }\n",
       "</style>\n",
       "<table border=\"1\" class=\"dataframe\">\n",
       "  <thead>\n",
       "    <tr style=\"text-align: right;\">\n",
       "      <th></th>\n",
       "      <th>wiek</th>\n",
       "      <th>wyksztalcenie</th>\n",
       "      <th>ma_kredyt</th>\n",
       "      <th>kredyt_mieszkaniowy</th>\n",
       "      <th>ma_pozyczke</th>\n",
       "      <th>miesiac</th>\n",
       "      <th>dl_polaczenia</th>\n",
       "      <th>liczba_polaczen_aktualnej_kampanii</th>\n",
       "      <th>liczba_dni_od_ost_kontaktu</th>\n",
       "      <th>liczba_polaczen_przed_aktualna_kampania</th>\n",
       "      <th>wsk_zmien_zatrudnienia</th>\n",
       "      <th>wsk_cen_konsum</th>\n",
       "      <th>wsk_zauf_konsum</th>\n",
       "      <th>euribor3m</th>\n",
       "      <th>liczba_pracownikow</th>\n",
       "      <th>target</th>\n",
       "      <th>aktywnie_pracujacy</th>\n",
       "      <th>day_of_week_fri</th>\n",
       "      <th>day_of_week_mon</th>\n",
       "      <th>day_of_week_thu</th>\n",
       "      <th>day_of_week_tue</th>\n",
       "      <th>day_of_week_wed</th>\n",
       "      <th>sposob_kontaktu_telephone</th>\n",
       "      <th>stan_cywilny_divorced</th>\n",
       "      <th>stan_cywilny_married</th>\n",
       "      <th>stan_cywilny_single</th>\n",
       "      <th>stan_cywilny_unknown</th>\n",
       "      <th>wynik_poprzedniej_kampanii_failure</th>\n",
       "      <th>wynik_poprzedniej_kampanii_nonexistent</th>\n",
       "      <th>wynik_poprzedniej_kampanii_success</th>\n",
       "      <th>admin.</th>\n",
       "      <th>blue-collar</th>\n",
       "      <th>entrepreneur</th>\n",
       "      <th>housemaid</th>\n",
       "      <th>management</th>\n",
       "      <th>retired</th>\n",
       "      <th>self-employed</th>\n",
       "      <th>services</th>\n",
       "      <th>student</th>\n",
       "      <th>technician</th>\n",
       "      <th>unemployed</th>\n",
       "    </tr>\n",
       "  </thead>\n",
       "  <tbody>\n",
       "    <tr>\n",
       "      <th>0</th>\n",
       "      <td>1.774340</td>\n",
       "      <td>1</td>\n",
       "      <td>1</td>\n",
       "      <td>1</td>\n",
       "      <td>1</td>\n",
       "      <td>0.25</td>\n",
       "      <td>261</td>\n",
       "      <td>1</td>\n",
       "      <td>6</td>\n",
       "      <td>0</td>\n",
       "      <td>2.406945</td>\n",
       "      <td>0.805097</td>\n",
       "      <td>0.882672</td>\n",
       "      <td>4.857</td>\n",
       "      <td>8.554682</td>\n",
       "      <td>0</td>\n",
       "      <td>1</td>\n",
       "      <td>0.0</td>\n",
       "      <td>1.0</td>\n",
       "      <td>0.0</td>\n",
       "      <td>0.0</td>\n",
       "      <td>0.0</td>\n",
       "      <td>1.0</td>\n",
       "      <td>0.0</td>\n",
       "      <td>1.0</td>\n",
       "      <td>0.0</td>\n",
       "      <td>0.0</td>\n",
       "      <td>0.0</td>\n",
       "      <td>1.0</td>\n",
       "      <td>0.0</td>\n",
       "      <td>0</td>\n",
       "      <td>0</td>\n",
       "      <td>0</td>\n",
       "      <td>1</td>\n",
       "      <td>0</td>\n",
       "      <td>0</td>\n",
       "      <td>0</td>\n",
       "      <td>0</td>\n",
       "      <td>0</td>\n",
       "      <td>0</td>\n",
       "      <td>0</td>\n",
       "    </tr>\n",
       "    <tr>\n",
       "      <th>1</th>\n",
       "      <td>-0.178868</td>\n",
       "      <td>4</td>\n",
       "      <td>1</td>\n",
       "      <td>0</td>\n",
       "      <td>1</td>\n",
       "      <td>0.25</td>\n",
       "      <td>226</td>\n",
       "      <td>1</td>\n",
       "      <td>6</td>\n",
       "      <td>0</td>\n",
       "      <td>2.406945</td>\n",
       "      <td>0.805097</td>\n",
       "      <td>0.882672</td>\n",
       "      <td>4.857</td>\n",
       "      <td>8.554682</td>\n",
       "      <td>0</td>\n",
       "      <td>1</td>\n",
       "      <td>0.0</td>\n",
       "      <td>1.0</td>\n",
       "      <td>0.0</td>\n",
       "      <td>0.0</td>\n",
       "      <td>0.0</td>\n",
       "      <td>1.0</td>\n",
       "      <td>0.0</td>\n",
       "      <td>1.0</td>\n",
       "      <td>0.0</td>\n",
       "      <td>0.0</td>\n",
       "      <td>0.0</td>\n",
       "      <td>1.0</td>\n",
       "      <td>0.0</td>\n",
       "      <td>0</td>\n",
       "      <td>0</td>\n",
       "      <td>0</td>\n",
       "      <td>0</td>\n",
       "      <td>0</td>\n",
       "      <td>0</td>\n",
       "      <td>0</td>\n",
       "      <td>1</td>\n",
       "      <td>0</td>\n",
       "      <td>0</td>\n",
       "      <td>0</td>\n",
       "    </tr>\n",
       "    <tr>\n",
       "      <th>2</th>\n",
       "      <td>0.129533</td>\n",
       "      <td>2</td>\n",
       "      <td>1</td>\n",
       "      <td>1</td>\n",
       "      <td>1</td>\n",
       "      <td>0.25</td>\n",
       "      <td>151</td>\n",
       "      <td>1</td>\n",
       "      <td>6</td>\n",
       "      <td>0</td>\n",
       "      <td>2.406945</td>\n",
       "      <td>0.805097</td>\n",
       "      <td>0.882672</td>\n",
       "      <td>4.857</td>\n",
       "      <td>8.554682</td>\n",
       "      <td>0</td>\n",
       "      <td>1</td>\n",
       "      <td>0.0</td>\n",
       "      <td>1.0</td>\n",
       "      <td>0.0</td>\n",
       "      <td>0.0</td>\n",
       "      <td>0.0</td>\n",
       "      <td>1.0</td>\n",
       "      <td>0.0</td>\n",
       "      <td>1.0</td>\n",
       "      <td>0.0</td>\n",
       "      <td>0.0</td>\n",
       "      <td>0.0</td>\n",
       "      <td>1.0</td>\n",
       "      <td>0.0</td>\n",
       "      <td>1</td>\n",
       "      <td>0</td>\n",
       "      <td>0</td>\n",
       "      <td>0</td>\n",
       "      <td>0</td>\n",
       "      <td>0</td>\n",
       "      <td>0</td>\n",
       "      <td>0</td>\n",
       "      <td>0</td>\n",
       "      <td>0</td>\n",
       "      <td>0</td>\n",
       "    </tr>\n",
       "    <tr>\n",
       "      <th>3</th>\n",
       "      <td>1.774340</td>\n",
       "      <td>4</td>\n",
       "      <td>1</td>\n",
       "      <td>1</td>\n",
       "      <td>0</td>\n",
       "      <td>0.25</td>\n",
       "      <td>307</td>\n",
       "      <td>1</td>\n",
       "      <td>6</td>\n",
       "      <td>0</td>\n",
       "      <td>2.406945</td>\n",
       "      <td>0.805097</td>\n",
       "      <td>0.882672</td>\n",
       "      <td>4.857</td>\n",
       "      <td>8.554682</td>\n",
       "      <td>0</td>\n",
       "      <td>1</td>\n",
       "      <td>0.0</td>\n",
       "      <td>1.0</td>\n",
       "      <td>0.0</td>\n",
       "      <td>0.0</td>\n",
       "      <td>0.0</td>\n",
       "      <td>1.0</td>\n",
       "      <td>0.0</td>\n",
       "      <td>1.0</td>\n",
       "      <td>0.0</td>\n",
       "      <td>0.0</td>\n",
       "      <td>0.0</td>\n",
       "      <td>1.0</td>\n",
       "      <td>0.0</td>\n",
       "      <td>0</td>\n",
       "      <td>0</td>\n",
       "      <td>0</td>\n",
       "      <td>0</td>\n",
       "      <td>0</td>\n",
       "      <td>0</td>\n",
       "      <td>0</td>\n",
       "      <td>1</td>\n",
       "      <td>0</td>\n",
       "      <td>0</td>\n",
       "      <td>0</td>\n",
       "    </tr>\n",
       "    <tr>\n",
       "      <th>4</th>\n",
       "      <td>2.082742</td>\n",
       "      <td>5</td>\n",
       "      <td>1</td>\n",
       "      <td>1</td>\n",
       "      <td>1</td>\n",
       "      <td>0.25</td>\n",
       "      <td>139</td>\n",
       "      <td>1</td>\n",
       "      <td>6</td>\n",
       "      <td>0</td>\n",
       "      <td>2.406945</td>\n",
       "      <td>0.805097</td>\n",
       "      <td>0.882672</td>\n",
       "      <td>4.857</td>\n",
       "      <td>8.554682</td>\n",
       "      <td>0</td>\n",
       "      <td>1</td>\n",
       "      <td>0.0</td>\n",
       "      <td>1.0</td>\n",
       "      <td>0.0</td>\n",
       "      <td>0.0</td>\n",
       "      <td>0.0</td>\n",
       "      <td>1.0</td>\n",
       "      <td>0.0</td>\n",
       "      <td>1.0</td>\n",
       "      <td>0.0</td>\n",
       "      <td>0.0</td>\n",
       "      <td>0.0</td>\n",
       "      <td>1.0</td>\n",
       "      <td>0.0</td>\n",
       "      <td>1</td>\n",
       "      <td>0</td>\n",
       "      <td>0</td>\n",
       "      <td>0</td>\n",
       "      <td>0</td>\n",
       "      <td>0</td>\n",
       "      <td>0</td>\n",
       "      <td>0</td>\n",
       "      <td>0</td>\n",
       "      <td>0</td>\n",
       "      <td>0</td>\n",
       "    </tr>\n",
       "  </tbody>\n",
       "</table>\n",
       "</div>"
      ],
      "text/plain": [
       "       wiek  wyksztalcenie  ma_kredyt  kredyt_mieszkaniowy  ma_pozyczke  \\\n",
       "0  1.774340              1          1                    1            1   \n",
       "1 -0.178868              4          1                    0            1   \n",
       "2  0.129533              2          1                    1            1   \n",
       "3  1.774340              4          1                    1            0   \n",
       "4  2.082742              5          1                    1            1   \n",
       "\n",
       "   miesiac  dl_polaczenia  liczba_polaczen_aktualnej_kampanii  \\\n",
       "0     0.25            261                                   1   \n",
       "1     0.25            226                                   1   \n",
       "2     0.25            151                                   1   \n",
       "3     0.25            307                                   1   \n",
       "4     0.25            139                                   1   \n",
       "\n",
       "   liczba_dni_od_ost_kontaktu  liczba_polaczen_przed_aktualna_kampania  \\\n",
       "0                           6                                        0   \n",
       "1                           6                                        0   \n",
       "2                           6                                        0   \n",
       "3                           6                                        0   \n",
       "4                           6                                        0   \n",
       "\n",
       "   wsk_zmien_zatrudnienia  wsk_cen_konsum  wsk_zauf_konsum  euribor3m  \\\n",
       "0                2.406945        0.805097         0.882672      4.857   \n",
       "1                2.406945        0.805097         0.882672      4.857   \n",
       "2                2.406945        0.805097         0.882672      4.857   \n",
       "3                2.406945        0.805097         0.882672      4.857   \n",
       "4                2.406945        0.805097         0.882672      4.857   \n",
       "\n",
       "   liczba_pracownikow  target  aktywnie_pracujacy  day_of_week_fri  \\\n",
       "0            8.554682       0                   1              0.0   \n",
       "1            8.554682       0                   1              0.0   \n",
       "2            8.554682       0                   1              0.0   \n",
       "3            8.554682       0                   1              0.0   \n",
       "4            8.554682       0                   1              0.0   \n",
       "\n",
       "   day_of_week_mon  day_of_week_thu  day_of_week_tue  day_of_week_wed  \\\n",
       "0              1.0              0.0              0.0              0.0   \n",
       "1              1.0              0.0              0.0              0.0   \n",
       "2              1.0              0.0              0.0              0.0   \n",
       "3              1.0              0.0              0.0              0.0   \n",
       "4              1.0              0.0              0.0              0.0   \n",
       "\n",
       "   sposob_kontaktu_telephone  stan_cywilny_divorced  stan_cywilny_married  \\\n",
       "0                        1.0                    0.0                   1.0   \n",
       "1                        1.0                    0.0                   1.0   \n",
       "2                        1.0                    0.0                   1.0   \n",
       "3                        1.0                    0.0                   1.0   \n",
       "4                        1.0                    0.0                   1.0   \n",
       "\n",
       "   stan_cywilny_single  stan_cywilny_unknown  \\\n",
       "0                  0.0                   0.0   \n",
       "1                  0.0                   0.0   \n",
       "2                  0.0                   0.0   \n",
       "3                  0.0                   0.0   \n",
       "4                  0.0                   0.0   \n",
       "\n",
       "   wynik_poprzedniej_kampanii_failure  wynik_poprzedniej_kampanii_nonexistent  \\\n",
       "0                                 0.0                                     1.0   \n",
       "1                                 0.0                                     1.0   \n",
       "2                                 0.0                                     1.0   \n",
       "3                                 0.0                                     1.0   \n",
       "4                                 0.0                                     1.0   \n",
       "\n",
       "   wynik_poprzedniej_kampanii_success  admin.  blue-collar  entrepreneur  \\\n",
       "0                                 0.0       0            0             0   \n",
       "1                                 0.0       0            0             0   \n",
       "2                                 0.0       1            0             0   \n",
       "3                                 0.0       0            0             0   \n",
       "4                                 0.0       1            0             0   \n",
       "\n",
       "   housemaid  management  retired  self-employed  services  student  \\\n",
       "0          1           0        0              0         0        0   \n",
       "1          0           0        0              0         1        0   \n",
       "2          0           0        0              0         0        0   \n",
       "3          0           0        0              0         1        0   \n",
       "4          0           0        0              0         0        0   \n",
       "\n",
       "   technician  unemployed  \n",
       "0           0           0  \n",
       "1           0           0  \n",
       "2           0           0  \n",
       "3           0           0  \n",
       "4           0           0  "
      ]
     },
     "execution_count": 27,
     "metadata": {},
     "output_type": "execute_result"
    }
   ],
   "source": [
    "df.head()"
   ]
  },
  {
   "cell_type": "code",
   "execution_count": 28,
   "id": "bf729c25-bd43-4919-b4e3-761616db5b73",
   "metadata": {},
   "outputs": [],
   "source": [
    "# ProfileReport(df, dark_mode=True).to_widgets()"
   ]
  },
  {
   "cell_type": "code",
   "execution_count": 29,
   "id": "b08186d4-fc5f-441e-ab22-7b710f449384",
   "metadata": {},
   "outputs": [],
   "source": [
    "df.to_csv(\"data/totrain.csv\")"
   ]
  }
 ],
 "metadata": {
  "kernelspec": {
   "display_name": "Python 3 (ipykernel)",
   "language": "python",
   "name": "python3"
  },
  "language_info": {
   "codemirror_mode": {
    "name": "ipython",
    "version": 3
   },
   "file_extension": ".py",
   "mimetype": "text/x-python",
   "name": "python",
   "nbconvert_exporter": "python",
   "pygments_lexer": "ipython3",
   "version": "3.9.13"
  }
 },
 "nbformat": 4,
 "nbformat_minor": 5
}
