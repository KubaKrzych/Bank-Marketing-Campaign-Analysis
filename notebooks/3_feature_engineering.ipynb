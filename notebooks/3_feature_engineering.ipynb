{
 "cells": [
  {
   "cell_type": "code",
   "execution_count": 1,
   "id": "a9374cd4-f50d-40cf-bf25-b2e64c933cab",
   "metadata": {},
   "outputs": [],
   "source": [
    "import os\n",
    "import warnings\n",
    "warnings.filterwarnings('ignore')\n",
    "\n",
    "import matplotlib.pyplot as plt\n",
    "import numpy as np\n",
    "import pandas as pd\n",
    "import seaborn as sns\n",
    "from scipy import stats\n",
    "from sklearn.preprocessing import OneHotEncoder, OrdinalEncoder\n",
    "from sklearn.neighbors import KNeighborsClassifier"
   ]
  },
  {
   "cell_type": "code",
   "execution_count": 2,
   "id": "8bb4956b-4dcb-42ed-be4e-5d81698a6d5e",
   "metadata": {},
   "outputs": [],
   "source": [
    "pd.set_option(\"display.max_columns\", None)\n",
    "pd.set_option(\"display.max_colwidth\", None)\n",
    "plt.rcParams[\"figure.figsize\"] = (8, 6)\n",
    "plt.rcParams[\"figure.dpi\"] = 100\n",
    "plt.style.use(\"bmh\")"
   ]
  },
  {
   "cell_type": "code",
   "execution_count": 3,
   "id": "6aeb62e9-39fd-4f2f-a503-64b55d09e196",
   "metadata": {},
   "outputs": [],
   "source": [
    "os.chdir(\"..\")"
   ]
  },
  {
   "cell_type": "code",
   "execution_count": 4,
   "id": "70954e46-d8fa-4e6b-b9f6-2fba02f653f9",
   "metadata": {},
   "outputs": [],
   "source": [
    "df = pd.read_csv(\"data/cleaned.csv\", index_col=0)\n",
    "df.reset_index(inplace=True, drop=True)"
   ]
  },
  {
   "cell_type": "code",
   "execution_count": 5,
   "id": "356441f9-8ca5-472a-bf1b-5a8ab308a1a4",
   "metadata": {},
   "outputs": [
    {
     "data": {
      "text/html": [
       "<div>\n",
       "<style scoped>\n",
       "    .dataframe tbody tr th:only-of-type {\n",
       "        vertical-align: middle;\n",
       "    }\n",
       "\n",
       "    .dataframe tbody tr th {\n",
       "        vertical-align: top;\n",
       "    }\n",
       "\n",
       "    .dataframe thead th {\n",
       "        text-align: right;\n",
       "    }\n",
       "</style>\n",
       "<table border=\"1\" class=\"dataframe\">\n",
       "  <thead>\n",
       "    <tr style=\"text-align: right;\">\n",
       "      <th></th>\n",
       "      <th>wiek</th>\n",
       "      <th>zawod</th>\n",
       "      <th>stan_cywilny</th>\n",
       "      <th>wyksztalcenie</th>\n",
       "      <th>ma_kredyt</th>\n",
       "      <th>kredyt_mieszkaniowy</th>\n",
       "      <th>ma_pozyczke</th>\n",
       "      <th>sposob_kontaktu</th>\n",
       "      <th>miesiac</th>\n",
       "      <th>dl_polaczenia</th>\n",
       "      <th>liczba_polaczen_aktualnej_kampanii</th>\n",
       "      <th>liczba_dni_od_ost_kontaktu</th>\n",
       "      <th>liczba_polaczen_przed_aktualna_kampania</th>\n",
       "      <th>wynik_poprzedniej_kampanii</th>\n",
       "      <th>wsk_zmien_zatrudnienia</th>\n",
       "      <th>wsk_cen_konsum</th>\n",
       "      <th>wsk_zauf_konsum</th>\n",
       "      <th>euribor3m</th>\n",
       "      <th>liczba_pracownikow</th>\n",
       "      <th>target</th>\n",
       "    </tr>\n",
       "  </thead>\n",
       "  <tbody>\n",
       "    <tr>\n",
       "      <th>0</th>\n",
       "      <td>56</td>\n",
       "      <td>housemaid</td>\n",
       "      <td>married</td>\n",
       "      <td>basic.4y</td>\n",
       "      <td>1</td>\n",
       "      <td>1</td>\n",
       "      <td>1</td>\n",
       "      <td>telephone</td>\n",
       "      <td>may</td>\n",
       "      <td>261</td>\n",
       "      <td>1</td>\n",
       "      <td>999</td>\n",
       "      <td>0</td>\n",
       "      <td>nonexistent</td>\n",
       "      <td>1.1</td>\n",
       "      <td>93.994</td>\n",
       "      <td>-36.4</td>\n",
       "      <td>4.857</td>\n",
       "      <td>5191.0</td>\n",
       "      <td>0</td>\n",
       "    </tr>\n",
       "    <tr>\n",
       "      <th>1</th>\n",
       "      <td>37</td>\n",
       "      <td>services</td>\n",
       "      <td>married</td>\n",
       "      <td>high.school</td>\n",
       "      <td>1</td>\n",
       "      <td>0</td>\n",
       "      <td>1</td>\n",
       "      <td>telephone</td>\n",
       "      <td>may</td>\n",
       "      <td>226</td>\n",
       "      <td>1</td>\n",
       "      <td>999</td>\n",
       "      <td>0</td>\n",
       "      <td>nonexistent</td>\n",
       "      <td>1.1</td>\n",
       "      <td>93.994</td>\n",
       "      <td>-36.4</td>\n",
       "      <td>4.857</td>\n",
       "      <td>5191.0</td>\n",
       "      <td>0</td>\n",
       "    </tr>\n",
       "    <tr>\n",
       "      <th>2</th>\n",
       "      <td>40</td>\n",
       "      <td>admin.</td>\n",
       "      <td>married</td>\n",
       "      <td>basic.6y</td>\n",
       "      <td>1</td>\n",
       "      <td>1</td>\n",
       "      <td>1</td>\n",
       "      <td>telephone</td>\n",
       "      <td>may</td>\n",
       "      <td>151</td>\n",
       "      <td>1</td>\n",
       "      <td>999</td>\n",
       "      <td>0</td>\n",
       "      <td>nonexistent</td>\n",
       "      <td>1.1</td>\n",
       "      <td>93.994</td>\n",
       "      <td>-36.4</td>\n",
       "      <td>4.857</td>\n",
       "      <td>5191.0</td>\n",
       "      <td>0</td>\n",
       "    </tr>\n",
       "    <tr>\n",
       "      <th>3</th>\n",
       "      <td>56</td>\n",
       "      <td>services</td>\n",
       "      <td>married</td>\n",
       "      <td>high.school</td>\n",
       "      <td>1</td>\n",
       "      <td>1</td>\n",
       "      <td>0</td>\n",
       "      <td>telephone</td>\n",
       "      <td>may</td>\n",
       "      <td>307</td>\n",
       "      <td>1</td>\n",
       "      <td>999</td>\n",
       "      <td>0</td>\n",
       "      <td>nonexistent</td>\n",
       "      <td>1.1</td>\n",
       "      <td>93.994</td>\n",
       "      <td>-36.4</td>\n",
       "      <td>4.857</td>\n",
       "      <td>5191.0</td>\n",
       "      <td>0</td>\n",
       "    </tr>\n",
       "    <tr>\n",
       "      <th>4</th>\n",
       "      <td>59</td>\n",
       "      <td>admin.</td>\n",
       "      <td>married</td>\n",
       "      <td>professional.course</td>\n",
       "      <td>1</td>\n",
       "      <td>1</td>\n",
       "      <td>1</td>\n",
       "      <td>telephone</td>\n",
       "      <td>may</td>\n",
       "      <td>139</td>\n",
       "      <td>1</td>\n",
       "      <td>999</td>\n",
       "      <td>0</td>\n",
       "      <td>nonexistent</td>\n",
       "      <td>1.1</td>\n",
       "      <td>93.994</td>\n",
       "      <td>-36.4</td>\n",
       "      <td>4.857</td>\n",
       "      <td>5191.0</td>\n",
       "      <td>0</td>\n",
       "    </tr>\n",
       "  </tbody>\n",
       "</table>\n",
       "</div>"
      ],
      "text/plain": [
       "   wiek      zawod stan_cywilny        wyksztalcenie  ma_kredyt  \\\n",
       "0    56  housemaid      married             basic.4y          1   \n",
       "1    37   services      married          high.school          1   \n",
       "2    40     admin.      married             basic.6y          1   \n",
       "3    56   services      married          high.school          1   \n",
       "4    59     admin.      married  professional.course          1   \n",
       "\n",
       "   kredyt_mieszkaniowy  ma_pozyczke sposob_kontaktu miesiac  dl_polaczenia  \\\n",
       "0                    1            1       telephone     may            261   \n",
       "1                    0            1       telephone     may            226   \n",
       "2                    1            1       telephone     may            151   \n",
       "3                    1            0       telephone     may            307   \n",
       "4                    1            1       telephone     may            139   \n",
       "\n",
       "   liczba_polaczen_aktualnej_kampanii  liczba_dni_od_ost_kontaktu  \\\n",
       "0                                   1                         999   \n",
       "1                                   1                         999   \n",
       "2                                   1                         999   \n",
       "3                                   1                         999   \n",
       "4                                   1                         999   \n",
       "\n",
       "   liczba_polaczen_przed_aktualna_kampania wynik_poprzedniej_kampanii  \\\n",
       "0                                        0                nonexistent   \n",
       "1                                        0                nonexistent   \n",
       "2                                        0                nonexistent   \n",
       "3                                        0                nonexistent   \n",
       "4                                        0                nonexistent   \n",
       "\n",
       "   wsk_zmien_zatrudnienia  wsk_cen_konsum  wsk_zauf_konsum  euribor3m  \\\n",
       "0                     1.1          93.994            -36.4      4.857   \n",
       "1                     1.1          93.994            -36.4      4.857   \n",
       "2                     1.1          93.994            -36.4      4.857   \n",
       "3                     1.1          93.994            -36.4      4.857   \n",
       "4                     1.1          93.994            -36.4      4.857   \n",
       "\n",
       "   liczba_pracownikow  target  \n",
       "0              5191.0       0  \n",
       "1              5191.0       0  \n",
       "2              5191.0       0  \n",
       "3              5191.0       0  \n",
       "4              5191.0       0  "
      ]
     },
     "execution_count": 5,
     "metadata": {},
     "output_type": "execute_result"
    }
   ],
   "source": [
    "df.head()"
   ]
  },
  {
   "cell_type": "markdown",
   "id": "8d0e0af6-b782-4be7-8e70-de98a901cad0",
   "metadata": {},
   "source": [
    "# Enkodowanie"
   ]
  },
  {
   "cell_type": "markdown",
   "id": "55f9a756-297d-4b12-8692-5e7a0b1f6adc",
   "metadata": {},
   "source": [
    "## Cechy cykliczne"
   ]
  },
  {
   "cell_type": "code",
   "execution_count": 6,
   "id": "170504ea-fdc6-4a70-bd95-7d61e67aef2c",
   "metadata": {},
   "outputs": [],
   "source": [
    "miesiace = {'mar':3, 'apr':4, 'may':5, 'jun':6, 'jul':7, 'aug':8, 'sep':9, 'oct':10, 'nov':11, 'dec':12}\n",
    "df.miesiac = df.miesiac.map(miesiace) / 12 * np.pi\n",
    "df.miesiac = np.sin(df.miesiac) * np.cos(df.miesiac)"
   ]
  },
  {
   "cell_type": "markdown",
   "id": "149e326a",
   "metadata": {},
   "source": [
    "## Cechy kategoryczne (z pominieciem _wyksztalcenie_ i _zawod_, gdyz te beda poddane procesowi _feature enginnering_)"
   ]
  },
  {
   "cell_type": "code",
   "execution_count": 7,
   "id": "d7afe19e",
   "metadata": {},
   "outputs": [],
   "source": [
    "df['aktywnie_pracujacy'] = ~df.zawod.isin(['student', 'unemployed', 'retired']) + 0"
   ]
  },
  {
   "cell_type": "code",
   "execution_count": 8,
   "id": "e0b6f986",
   "metadata": {},
   "outputs": [],
   "source": [
    "subset = df.select_dtypes(include='object')\n",
    "subset = subset[subset.columns.difference(['wyksztalcenie'])]\n",
    "\n",
    "zawod_array = df.zawod"
   ]
  },
  {
   "cell_type": "code",
   "execution_count": 9,
   "id": "206499e7-cd20-43b2-af2d-8f2112f77482",
   "metadata": {},
   "outputs": [],
   "source": [
    "encoder = OneHotEncoder()\n",
    "encoded_df = encoder.fit_transform(subset).toarray()\n",
    "encoded_df = pd.DataFrame(encoded_df, columns=encoder.get_feature_names_out())\n",
    "encoded_df = encoded_df.drop('sposob_kontaktu_cellular', axis=1)\n",
    "\n",
    "df = df.join(encoded_df)\n",
    "df = df.drop(subset.columns, axis=1)"
   ]
  },
  {
   "cell_type": "markdown",
   "id": "694c3593-d7fb-4e2b-9b50-9a6967b9c463",
   "metadata": {},
   "source": [
    "### Wyksztalcenie (zamiana wartosci _unknown_, przy pomocy algorytmu __KNN__)"
   ]
  },
  {
   "cell_type": "code",
   "execution_count": 10,
   "id": "b38b903f",
   "metadata": {},
   "outputs": [],
   "source": [
    "attrib = 'wyksztalcenie'"
   ]
  },
  {
   "cell_type": "code",
   "execution_count": 11,
   "id": "b9ba0adc",
   "metadata": {},
   "outputs": [
    {
     "data": {
      "text/plain": [
       "KNeighborsClassifier()"
      ]
     },
     "execution_count": 11,
     "metadata": {},
     "output_type": "execute_result"
    }
   ],
   "source": [
    "model = KNeighborsClassifier(n_neighbors=3)\n",
    "X = df[~(df[attrib] == 'unknown')]\n",
    "y = X[attrib]\n",
    "X = X[X.columns.difference([attrib])]\n",
    "\n",
    "model.fit(X, y)"
   ]
  },
  {
   "cell_type": "code",
   "execution_count": 12,
   "id": "6d650337",
   "metadata": {},
   "outputs": [],
   "source": [
    "X_pred = df[(df[attrib] == 'unknown')]\n",
    "y_pred = X_pred[attrib]\n",
    "X_pred = X_pred[X_pred.columns.difference([attrib])]\n",
    "\n",
    "df.loc[y_pred.index, attrib] = model.predict(X_pred)"
   ]
  },
  {
   "cell_type": "code",
   "execution_count": 14,
   "id": "8d296160",
   "metadata": {},
   "outputs": [
    {
     "data": {
      "text/plain": [
       "university.degree      10731\n",
       "high.school             7967\n",
       "basic.9y                4399\n",
       "professional.course     4374\n",
       "basic.4y                2355\n",
       "basic.6y                1415\n",
       "illiterate                11\n",
       "Name: wyksztalcenie, dtype: int64"
      ]
     },
     "execution_count": 14,
     "metadata": {},
     "output_type": "execute_result"
    }
   ],
   "source": [
    "df.wyksztalcenie.value_counts()"
   ]
  },
  {
   "cell_type": "code",
   "execution_count": 34,
   "id": "91b8d11d",
   "metadata": {},
   "outputs": [],
   "source": [
    "map_wyksztalcenie_do_liczby = {\n",
    "    'illiterate':0,\n",
    "    'basic.4y':1,\n",
    "    'basic.6y':2,\n",
    "    'basic.9y':3,\n",
    "    'high.school':4,\n",
    "    'professional.course':5,\n",
    "    'university.degree':6\n",
    "}"
   ]
  },
  {
   "cell_type": "code",
   "execution_count": 35,
   "id": "cd70a017",
   "metadata": {},
   "outputs": [],
   "source": [
    "df.wyksztalcenie = df.wyksztalcenie.map(map_wyksztalcenie_do_liczby)"
   ]
  },
  {
   "cell_type": "markdown",
   "id": "2f7bd5c8-ed7b-4774-a9c7-93e448c8ce53",
   "metadata": {},
   "source": [
    "### Zawod"
   ]
  },
  {
   "cell_type": "code",
   "execution_count": null,
   "id": "4353467e",
   "metadata": {},
   "outputs": [],
   "source": []
  },
  {
   "cell_type": "code",
   "execution_count": 39,
   "id": "bf5b6027",
   "metadata": {},
   "outputs": [],
   "source": [
    "attrib = 'zawod'"
   ]
  },
  {
   "cell_type": "code",
   "execution_count": 11,
   "id": "535678b5",
   "metadata": {},
   "outputs": [
    {
     "data": {
      "text/plain": [
       "KNeighborsClassifier()"
      ]
     },
     "execution_count": 11,
     "metadata": {},
     "output_type": "execute_result"
    }
   ],
   "source": [
    "model = KNeighborsClassifier(n_neighbors=3)\n",
    "X = df[~(df[attrib] == 'unknown')]\n",
    "y = X[attrib]\n",
    "X = X[X.columns.difference([attrib])]\n",
    "\n",
    "model.fit(X, y)"
   ]
  },
  {
   "cell_type": "code",
   "execution_count": 12,
   "id": "99a77158",
   "metadata": {},
   "outputs": [],
   "source": [
    "X_pred = df[(df[attrib] == 'unknown')]\n",
    "y_pred = X_pred[attrib]\n",
    "X_pred = X_pred[X_pred.columns.difference([attrib])]\n",
    "\n",
    "df.loc[y_pred.index, attrib] = model.predict(X_pred)"
   ]
  },
  {
   "cell_type": "code",
   "execution_count": null,
   "id": "bb3bcf82-4b69-4be1-8c46-b0ff3f997368",
   "metadata": {},
   "outputs": [],
   "source": []
  }
 ],
 "metadata": {
  "kernelspec": {
   "display_name": "Python 3 (ipykernel)",
   "language": "python",
   "name": "python3"
  },
  "language_info": {
   "codemirror_mode": {
    "name": "ipython",
    "version": 3
   },
   "file_extension": ".py",
   "mimetype": "text/x-python",
   "name": "python",
   "nbconvert_exporter": "python",
   "pygments_lexer": "ipython3",
   "version": "3.9.13"
  }
 },
 "nbformat": 4,
 "nbformat_minor": 5
}
